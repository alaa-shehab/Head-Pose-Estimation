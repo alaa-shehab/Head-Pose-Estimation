{
  "nbformat": 4,
  "nbformat_minor": 0,
  "metadata": {
    "colab": {
      "provenance": [],
      "include_colab_link": true
    },
    "kernelspec": {
      "name": "python3",
      "display_name": "Python 3"
    },
    "language_info": {
      "name": "python"
    }
  },
  "cells": [
    {
      "cell_type": "markdown",
      "metadata": {
        "id": "view-in-github",
        "colab_type": "text"
      },
      "source": [
        "<a href=\"https://colab.research.google.com/github/alaa-shehab/Head-Pose-Estimation/blob/main/ML1_Head_Pose_Estimation_Project.ipynb\" target=\"_parent\"><img src=\"https://colab.research.google.com/assets/colab-badge.svg\" alt=\"Open In Colab\"/></a>"
      ]
    },
    {
      "cell_type": "markdown",
      "source": [
        "#### Thanks to:\n",
        "- Amira Adel Foda (intake 42 - smart village branch - group 2)\n",
        "- Asmaa Said (intake 42 - smart village branch - group 2)\n",
        "- Marawan Mohamed (intake 42 - Alex. branch - group 2)\n"
      ],
      "metadata": {
        "id": "BiexosZCsnvD"
      }
    },
    {
      "cell_type": "markdown",
      "source": [
        "### Installing MediaPipe"
      ],
      "metadata": {
        "id": "LsCS8ckGAua6"
      }
    },
    {
      "cell_type": "code",
      "execution_count": null,
      "metadata": {
        "id": "AfVHCj5VAkky"
      },
      "outputs": [],
      "source": [
        "%%capture\n",
        "!pip install mediapipe"
      ]
    },
    {
      "cell_type": "markdown",
      "source": [
        "### Required Libraries"
      ],
      "metadata": {
        "id": "KNdGPfI2A0vD"
      }
    },
    {
      "cell_type": "code",
      "source": [
        "import numpy as np\n",
        "import os,cv2,math,glob,random\n",
        "import scipy.io as sio\n",
        "from math import cos, sin\n",
        "from pathlib import Path\n",
        "import pandas as pd\n",
        "import mediapipe\n",
        "import warnings\n",
        "warnings.filterwarnings('ignore')\n",
        "from google.colab.patches import cv2_imshow"
      ],
      "metadata": {
        "id": "JMD9H2caAyos"
      },
      "execution_count": 1,
      "outputs": []
    },
    {
      "cell_type": "markdown",
      "source": [
        "### Dowlining Data"
      ],
      "metadata": {
        "id": "URajmtX-BADF"
      }
    },
    {
      "cell_type": "code",
      "source": [
        "# link of the data\n",
        "# http://www.cbsr.ia.ac.cn/users/xiangyuzhu/projects/3DDFA/Database/AFLW2000-3D.zip"
      ],
      "metadata": {
        "id": "6fxYX4bXGvr0"
      },
      "execution_count": null,
      "outputs": []
    },
    {
      "cell_type": "code",
      "source": [
        "# Loading AFLW2000 Data\n",
        "%%capture\n",
        "if os.path.isfile('/content/AFLW2000-3D.zip') == False:\n",
        "  !gdown --id  1fP3zvSCYjll_o_m7S12nvQLZ9MnsEoap\n",
        "  !unzip /content/AFLW2000-3D.zip\n"
      ],
      "metadata": {
        "id": "X2TkYU03LDji"
      },
      "execution_count": null,
      "outputs": []
    },
    {
      "cell_type": "code",
      "source": [
        "def draw_axis(img, pitch,yaw,roll, tdx=None, tdy=None, size = 100):\n",
        "\n",
        "    yaw = -yaw\n",
        "    if tdx != None and tdy != None:\n",
        "        tdx = tdx\n",
        "        tdy = tdy\n",
        "    else:\n",
        "        height, width = img.shape[:2]\n",
        "        tdx = width / 2\n",
        "        tdy = height / 2\n",
        "\n",
        "    # X-Axis pointing to right. drawn in red\n",
        "    x1 = size * (cos(yaw) * cos(roll)) + tdx\n",
        "    y1 = size * (cos(pitch) * sin(roll) + cos(roll) * sin(pitch) * sin(yaw)) + tdy\n",
        "\n",
        "    # Y-Axis | drawn in green\n",
        "    #        v\n",
        "    x2 = size * (-cos(yaw) * sin(roll)) + tdx\n",
        "    y2 = size * (cos(pitch) * cos(roll) - sin(pitch) * sin(yaw) * sin(roll)) + tdy\n",
        "\n",
        "    # Z-Axis (out of the screen) drawn in blue\n",
        "    x3 = size * (sin(yaw)) + tdx\n",
        "    y3 = size * (-cos(yaw) * sin(pitch)) + tdy\n",
        "\n",
        "    cv2.line(img, (int(tdx), int(tdy)), (int(x1),int(y1)),(0,0,255),3)\n",
        "    cv2.line(img, (int(tdx), int(tdy)), (int(x2),int(y2)),(0,255,0),3)\n",
        "    cv2.line(img, (int(tdx), int(tdy)), (int(x3),int(y3)),(255,0,0),2)\n",
        "\n",
        "    return img"
      ],
      "metadata": {
        "id": "oZVe65YyFJdF"
      },
      "execution_count": 2,
      "outputs": []
    },
    {
      "cell_type": "markdown",
      "source": [
        "### Preparing Data"
      ],
      "metadata": {
        "id": "Bnjmn1cpBPU4"
      }
    },
    {
      "cell_type": "code",
      "source": [
        "import glob\n",
        "\n",
        "img_dir = '/content/AFLW2000/*.jpg'\n",
        "mat_dir = '/content/AFLW2000/*.mat'\n",
        "\n",
        "image_files = glob.glob(img_dir)\n",
        "mat_files = glob.glob(mat_dir)\n"
      ],
      "metadata": {
        "id": "N29hriPkQa2v"
      },
      "execution_count": 3,
      "outputs": []
    },
    {
      "cell_type": "code",
      "source": [
        "# choosing random image\n",
        "features = []\n",
        "poses = []\n",
        "nose = []\n",
        "chin = []\n",
        "x_features = []\n",
        "y_features = []\n",
        "faceModule = mediapipe.solutions.face_mesh\n",
        "\n",
        "# loading image and its corresponding mat file\n",
        "with faceModule.FaceMesh(static_image_mode=True) as faces:\n",
        "    for image, mat_file in zip(sorted(image_files), sorted(mat_files)):\n",
        "        image_x = []\n",
        "        image_y = []\n",
        "        img = cv2.imread(image)\n",
        "        results = faces.process(cv2.cvtColor(img, cv2.COLOR_BGR2RGB))\n",
        "\n",
        "        if results.multi_face_landmarks:\n",
        "            if os.path.splitext(image)[0] == os.path.splitext(mat_file)[0]:\n",
        "                mat = sio.loadmat(mat_file)\n",
        "                poses.append(mat['Pose_Para'][0][:3])\n",
        "\n",
        "            for face in results.multi_face_landmarks:\n",
        "\n",
        "                for idx, landmark in enumerate(face.landmark):\n",
        "\n",
        "                    x = landmark.x\n",
        "                    y = landmark.y\n",
        "\n",
        "                    image_x.append(x)\n",
        "                    image_y.append(y)\n",
        "\n",
        "\n",
        "                    if idx == 1:\n",
        "                        nose.append([x, y])\n",
        "                    elif idx == 152:\n",
        "                        chin.append([x, y])\n",
        "\n",
        "\n",
        "\n",
        "                x_features.append(image_x)\n",
        "                y_features.append(image_y)\n"
      ],
      "metadata": {
        "id": "osmWTAzTBKE1"
      },
      "execution_count": 4,
      "outputs": []
    },
    {
      "cell_type": "code",
      "source": [
        "features = []\n",
        "features = np.hstack([x_features, y_features])"
      ],
      "metadata": {
        "id": "d5TuixP3vHw1"
      },
      "execution_count": 5,
      "outputs": []
    },
    {
      "cell_type": "code",
      "source": [
        "nose = np.array(nose)"
      ],
      "metadata": {
        "id": "qy6aZD1G5nfT"
      },
      "execution_count": 6,
      "outputs": []
    },
    {
      "cell_type": "code",
      "source": [
        "chin = np.array(chin)"
      ],
      "metadata": {
        "id": "dPRzww6L59Jh"
      },
      "execution_count": 7,
      "outputs": []
    },
    {
      "cell_type": "code",
      "source": [
        "centered_x = np.array(x_features) - nose[:,0].reshape(-1,1)\n",
        "centered_y = np.array(y_features) - nose[:,1].reshape(-1,1)"
      ],
      "metadata": {
        "id": "-6j-yjC95jfH"
      },
      "execution_count": 8,
      "outputs": []
    },
    {
      "cell_type": "code",
      "source": [
        "df = pd.DataFrame(centered_x)"
      ],
      "metadata": {
        "id": "TjEBvsyC_G88"
      },
      "execution_count": 9,
      "outputs": []
    },
    {
      "cell_type": "code",
      "source": [
        "df"
      ],
      "metadata": {
        "colab": {
          "base_uri": "https://localhost:8080/",
          "height": 617
        },
        "id": "S7SCImkp_KYA",
        "outputId": "a942eb0c-02d3-4e22-cbed-e80301565c00"
      },
      "execution_count": 10,
      "outputs": [
        {
          "output_type": "execute_result",
          "data": {
            "text/plain": [
              "           0    1         2         3         4             5         6    \\\n",
              "0    -0.003543  0.0  0.000608 -0.009464  0.001364  4.439384e-03  0.013999   \n",
              "1     0.024229  0.0  0.031566  0.018721 -0.001516  9.507179e-03  0.046927   \n",
              "2    -0.003530  0.0 -0.003012 -0.010264  0.000131 -9.746850e-04 -0.004974   \n",
              "3     0.034401  0.0  0.019983 -0.025088 -0.007765 -1.240668e-02 -0.018161   \n",
              "4     0.017510  0.0  0.007027 -0.025361 -0.004529 -9.133726e-03 -0.018460   \n",
              "...        ...  ...       ...       ...       ...           ...       ...   \n",
              "1848 -0.017394  0.0 -0.014022 -0.021187  0.002506  4.172325e-07 -0.011757   \n",
              "1849 -0.021379  0.0 -0.015997 -0.019701  0.003207  1.438320e-03 -0.008581   \n",
              "1850 -0.018034  0.0 -0.010614 -0.001460  0.005185  9.545743e-03  0.020184   \n",
              "1851 -0.009009  0.0 -0.003344 -0.010562  0.002792  5.800664e-03  0.012746   \n",
              "1852  0.001952  0.0 -0.000861 -0.018148 -0.000412 -1.854360e-03 -0.005694   \n",
              "\n",
              "           7         8         9    ...       458       459       460  \\\n",
              "0    -0.125516  0.019435  0.021375  ...  0.020202  0.031218  0.052639   \n",
              "1     0.047139  0.056855  0.054796  ...  0.024827  0.029342  0.064762   \n",
              "2    -0.074134 -0.006653 -0.006827  ...  0.007334  0.011718  0.017897   \n",
              "3    -0.107944 -0.031873 -0.041470  ...  0.025930  0.032691  0.063698   \n",
              "4    -0.134770 -0.024065 -0.028712  ...  0.018863  0.026586  0.047360   \n",
              "...        ...       ...       ...  ...       ...       ...       ...   \n",
              "1848 -0.172699 -0.014296 -0.012343  ...  0.009465  0.018873  0.022846   \n",
              "1849 -0.166479 -0.008748 -0.005852  ...  0.009779  0.019355  0.023437   \n",
              "1850 -0.095862  0.032612  0.040196  ...  0.011729  0.022248  0.031742   \n",
              "1851 -0.146150  0.018244  0.021437  ...  0.018928  0.030519  0.047378   \n",
              "1852 -0.136770 -0.006874 -0.006870  ...  0.015774  0.024563  0.040388   \n",
              "\n",
              "           461       462       463       464       465       466       467  \n",
              "0     0.016129  0.014511  0.070518  0.059243  0.052235  0.176474  0.186897  \n",
              "1     0.019547  0.028106  0.105195  0.094120  0.083385  0.167178  0.176787  \n",
              "2     0.006202  0.004513  0.013085  0.009006  0.007312  0.052077  0.056315  \n",
              "3     0.021744  0.025289  0.038046  0.028210  0.021064  0.126094  0.133149  \n",
              "4     0.016296  0.015960  0.027772  0.018014  0.012938  0.109755  0.118581  \n",
              "...        ...       ...       ...       ...       ...       ...       ...  \n",
              "1848  0.007964  0.002310  0.016343  0.009038  0.007237  0.096224  0.102929  \n",
              "1849  0.008038  0.002470  0.016814  0.010706  0.009687  0.094514  0.102468  \n",
              "1850  0.008742  0.004656  0.059450  0.049798  0.044495  0.129610  0.138876  \n",
              "1851  0.015256  0.012469  0.070122  0.057071  0.049653  0.173337  0.183966  \n",
              "1852  0.013198  0.011157  0.033580  0.025166  0.021091  0.115304  0.125297  \n",
              "\n",
              "[1853 rows x 468 columns]"
            ],
            "text/html": [
              "\n",
              "  <div id=\"df-8f8112bb-834c-4115-a64d-41a38d25d606\" class=\"colab-df-container\">\n",
              "    <div>\n",
              "<style scoped>\n",
              "    .dataframe tbody tr th:only-of-type {\n",
              "        vertical-align: middle;\n",
              "    }\n",
              "\n",
              "    .dataframe tbody tr th {\n",
              "        vertical-align: top;\n",
              "    }\n",
              "\n",
              "    .dataframe thead th {\n",
              "        text-align: right;\n",
              "    }\n",
              "</style>\n",
              "<table border=\"1\" class=\"dataframe\">\n",
              "  <thead>\n",
              "    <tr style=\"text-align: right;\">\n",
              "      <th></th>\n",
              "      <th>0</th>\n",
              "      <th>1</th>\n",
              "      <th>2</th>\n",
              "      <th>3</th>\n",
              "      <th>4</th>\n",
              "      <th>5</th>\n",
              "      <th>6</th>\n",
              "      <th>7</th>\n",
              "      <th>8</th>\n",
              "      <th>9</th>\n",
              "      <th>...</th>\n",
              "      <th>458</th>\n",
              "      <th>459</th>\n",
              "      <th>460</th>\n",
              "      <th>461</th>\n",
              "      <th>462</th>\n",
              "      <th>463</th>\n",
              "      <th>464</th>\n",
              "      <th>465</th>\n",
              "      <th>466</th>\n",
              "      <th>467</th>\n",
              "    </tr>\n",
              "  </thead>\n",
              "  <tbody>\n",
              "    <tr>\n",
              "      <th>0</th>\n",
              "      <td>-0.003543</td>\n",
              "      <td>0.0</td>\n",
              "      <td>0.000608</td>\n",
              "      <td>-0.009464</td>\n",
              "      <td>0.001364</td>\n",
              "      <td>4.439384e-03</td>\n",
              "      <td>0.013999</td>\n",
              "      <td>-0.125516</td>\n",
              "      <td>0.019435</td>\n",
              "      <td>0.021375</td>\n",
              "      <td>...</td>\n",
              "      <td>0.020202</td>\n",
              "      <td>0.031218</td>\n",
              "      <td>0.052639</td>\n",
              "      <td>0.016129</td>\n",
              "      <td>0.014511</td>\n",
              "      <td>0.070518</td>\n",
              "      <td>0.059243</td>\n",
              "      <td>0.052235</td>\n",
              "      <td>0.176474</td>\n",
              "      <td>0.186897</td>\n",
              "    </tr>\n",
              "    <tr>\n",
              "      <th>1</th>\n",
              "      <td>0.024229</td>\n",
              "      <td>0.0</td>\n",
              "      <td>0.031566</td>\n",
              "      <td>0.018721</td>\n",
              "      <td>-0.001516</td>\n",
              "      <td>9.507179e-03</td>\n",
              "      <td>0.046927</td>\n",
              "      <td>0.047139</td>\n",
              "      <td>0.056855</td>\n",
              "      <td>0.054796</td>\n",
              "      <td>...</td>\n",
              "      <td>0.024827</td>\n",
              "      <td>0.029342</td>\n",
              "      <td>0.064762</td>\n",
              "      <td>0.019547</td>\n",
              "      <td>0.028106</td>\n",
              "      <td>0.105195</td>\n",
              "      <td>0.094120</td>\n",
              "      <td>0.083385</td>\n",
              "      <td>0.167178</td>\n",
              "      <td>0.176787</td>\n",
              "    </tr>\n",
              "    <tr>\n",
              "      <th>2</th>\n",
              "      <td>-0.003530</td>\n",
              "      <td>0.0</td>\n",
              "      <td>-0.003012</td>\n",
              "      <td>-0.010264</td>\n",
              "      <td>0.000131</td>\n",
              "      <td>-9.746850e-04</td>\n",
              "      <td>-0.004974</td>\n",
              "      <td>-0.074134</td>\n",
              "      <td>-0.006653</td>\n",
              "      <td>-0.006827</td>\n",
              "      <td>...</td>\n",
              "      <td>0.007334</td>\n",
              "      <td>0.011718</td>\n",
              "      <td>0.017897</td>\n",
              "      <td>0.006202</td>\n",
              "      <td>0.004513</td>\n",
              "      <td>0.013085</td>\n",
              "      <td>0.009006</td>\n",
              "      <td>0.007312</td>\n",
              "      <td>0.052077</td>\n",
              "      <td>0.056315</td>\n",
              "    </tr>\n",
              "    <tr>\n",
              "      <th>3</th>\n",
              "      <td>0.034401</td>\n",
              "      <td>0.0</td>\n",
              "      <td>0.019983</td>\n",
              "      <td>-0.025088</td>\n",
              "      <td>-0.007765</td>\n",
              "      <td>-1.240668e-02</td>\n",
              "      <td>-0.018161</td>\n",
              "      <td>-0.107944</td>\n",
              "      <td>-0.031873</td>\n",
              "      <td>-0.041470</td>\n",
              "      <td>...</td>\n",
              "      <td>0.025930</td>\n",
              "      <td>0.032691</td>\n",
              "      <td>0.063698</td>\n",
              "      <td>0.021744</td>\n",
              "      <td>0.025289</td>\n",
              "      <td>0.038046</td>\n",
              "      <td>0.028210</td>\n",
              "      <td>0.021064</td>\n",
              "      <td>0.126094</td>\n",
              "      <td>0.133149</td>\n",
              "    </tr>\n",
              "    <tr>\n",
              "      <th>4</th>\n",
              "      <td>0.017510</td>\n",
              "      <td>0.0</td>\n",
              "      <td>0.007027</td>\n",
              "      <td>-0.025361</td>\n",
              "      <td>-0.004529</td>\n",
              "      <td>-9.133726e-03</td>\n",
              "      <td>-0.018460</td>\n",
              "      <td>-0.134770</td>\n",
              "      <td>-0.024065</td>\n",
              "      <td>-0.028712</td>\n",
              "      <td>...</td>\n",
              "      <td>0.018863</td>\n",
              "      <td>0.026586</td>\n",
              "      <td>0.047360</td>\n",
              "      <td>0.016296</td>\n",
              "      <td>0.015960</td>\n",
              "      <td>0.027772</td>\n",
              "      <td>0.018014</td>\n",
              "      <td>0.012938</td>\n",
              "      <td>0.109755</td>\n",
              "      <td>0.118581</td>\n",
              "    </tr>\n",
              "    <tr>\n",
              "      <th>...</th>\n",
              "      <td>...</td>\n",
              "      <td>...</td>\n",
              "      <td>...</td>\n",
              "      <td>...</td>\n",
              "      <td>...</td>\n",
              "      <td>...</td>\n",
              "      <td>...</td>\n",
              "      <td>...</td>\n",
              "      <td>...</td>\n",
              "      <td>...</td>\n",
              "      <td>...</td>\n",
              "      <td>...</td>\n",
              "      <td>...</td>\n",
              "      <td>...</td>\n",
              "      <td>...</td>\n",
              "      <td>...</td>\n",
              "      <td>...</td>\n",
              "      <td>...</td>\n",
              "      <td>...</td>\n",
              "      <td>...</td>\n",
              "      <td>...</td>\n",
              "    </tr>\n",
              "    <tr>\n",
              "      <th>1848</th>\n",
              "      <td>-0.017394</td>\n",
              "      <td>0.0</td>\n",
              "      <td>-0.014022</td>\n",
              "      <td>-0.021187</td>\n",
              "      <td>0.002506</td>\n",
              "      <td>4.172325e-07</td>\n",
              "      <td>-0.011757</td>\n",
              "      <td>-0.172699</td>\n",
              "      <td>-0.014296</td>\n",
              "      <td>-0.012343</td>\n",
              "      <td>...</td>\n",
              "      <td>0.009465</td>\n",
              "      <td>0.018873</td>\n",
              "      <td>0.022846</td>\n",
              "      <td>0.007964</td>\n",
              "      <td>0.002310</td>\n",
              "      <td>0.016343</td>\n",
              "      <td>0.009038</td>\n",
              "      <td>0.007237</td>\n",
              "      <td>0.096224</td>\n",
              "      <td>0.102929</td>\n",
              "    </tr>\n",
              "    <tr>\n",
              "      <th>1849</th>\n",
              "      <td>-0.021379</td>\n",
              "      <td>0.0</td>\n",
              "      <td>-0.015997</td>\n",
              "      <td>-0.019701</td>\n",
              "      <td>0.003207</td>\n",
              "      <td>1.438320e-03</td>\n",
              "      <td>-0.008581</td>\n",
              "      <td>-0.166479</td>\n",
              "      <td>-0.008748</td>\n",
              "      <td>-0.005852</td>\n",
              "      <td>...</td>\n",
              "      <td>0.009779</td>\n",
              "      <td>0.019355</td>\n",
              "      <td>0.023437</td>\n",
              "      <td>0.008038</td>\n",
              "      <td>0.002470</td>\n",
              "      <td>0.016814</td>\n",
              "      <td>0.010706</td>\n",
              "      <td>0.009687</td>\n",
              "      <td>0.094514</td>\n",
              "      <td>0.102468</td>\n",
              "    </tr>\n",
              "    <tr>\n",
              "      <th>1850</th>\n",
              "      <td>-0.018034</td>\n",
              "      <td>0.0</td>\n",
              "      <td>-0.010614</td>\n",
              "      <td>-0.001460</td>\n",
              "      <td>0.005185</td>\n",
              "      <td>9.545743e-03</td>\n",
              "      <td>0.020184</td>\n",
              "      <td>-0.095862</td>\n",
              "      <td>0.032612</td>\n",
              "      <td>0.040196</td>\n",
              "      <td>...</td>\n",
              "      <td>0.011729</td>\n",
              "      <td>0.022248</td>\n",
              "      <td>0.031742</td>\n",
              "      <td>0.008742</td>\n",
              "      <td>0.004656</td>\n",
              "      <td>0.059450</td>\n",
              "      <td>0.049798</td>\n",
              "      <td>0.044495</td>\n",
              "      <td>0.129610</td>\n",
              "      <td>0.138876</td>\n",
              "    </tr>\n",
              "    <tr>\n",
              "      <th>1851</th>\n",
              "      <td>-0.009009</td>\n",
              "      <td>0.0</td>\n",
              "      <td>-0.003344</td>\n",
              "      <td>-0.010562</td>\n",
              "      <td>0.002792</td>\n",
              "      <td>5.800664e-03</td>\n",
              "      <td>0.012746</td>\n",
              "      <td>-0.146150</td>\n",
              "      <td>0.018244</td>\n",
              "      <td>0.021437</td>\n",
              "      <td>...</td>\n",
              "      <td>0.018928</td>\n",
              "      <td>0.030519</td>\n",
              "      <td>0.047378</td>\n",
              "      <td>0.015256</td>\n",
              "      <td>0.012469</td>\n",
              "      <td>0.070122</td>\n",
              "      <td>0.057071</td>\n",
              "      <td>0.049653</td>\n",
              "      <td>0.173337</td>\n",
              "      <td>0.183966</td>\n",
              "    </tr>\n",
              "    <tr>\n",
              "      <th>1852</th>\n",
              "      <td>0.001952</td>\n",
              "      <td>0.0</td>\n",
              "      <td>-0.000861</td>\n",
              "      <td>-0.018148</td>\n",
              "      <td>-0.000412</td>\n",
              "      <td>-1.854360e-03</td>\n",
              "      <td>-0.005694</td>\n",
              "      <td>-0.136770</td>\n",
              "      <td>-0.006874</td>\n",
              "      <td>-0.006870</td>\n",
              "      <td>...</td>\n",
              "      <td>0.015774</td>\n",
              "      <td>0.024563</td>\n",
              "      <td>0.040388</td>\n",
              "      <td>0.013198</td>\n",
              "      <td>0.011157</td>\n",
              "      <td>0.033580</td>\n",
              "      <td>0.025166</td>\n",
              "      <td>0.021091</td>\n",
              "      <td>0.115304</td>\n",
              "      <td>0.125297</td>\n",
              "    </tr>\n",
              "  </tbody>\n",
              "</table>\n",
              "<p>1853 rows × 468 columns</p>\n",
              "</div>\n",
              "    <div class=\"colab-df-buttons\">\n",
              "\n",
              "  <div class=\"colab-df-container\">\n",
              "    <button class=\"colab-df-convert\" onclick=\"convertToInteractive('df-8f8112bb-834c-4115-a64d-41a38d25d606')\"\n",
              "            title=\"Convert this dataframe to an interactive table.\"\n",
              "            style=\"display:none;\">\n",
              "\n",
              "  <svg xmlns=\"http://www.w3.org/2000/svg\" height=\"24px\" viewBox=\"0 -960 960 960\">\n",
              "    <path d=\"M120-120v-720h720v720H120Zm60-500h600v-160H180v160Zm220 220h160v-160H400v160Zm0 220h160v-160H400v160ZM180-400h160v-160H180v160Zm440 0h160v-160H620v160ZM180-180h160v-160H180v160Zm440 0h160v-160H620v160Z\"/>\n",
              "  </svg>\n",
              "    </button>\n",
              "\n",
              "  <style>\n",
              "    .colab-df-container {\n",
              "      display:flex;\n",
              "      gap: 12px;\n",
              "    }\n",
              "\n",
              "    .colab-df-convert {\n",
              "      background-color: #E8F0FE;\n",
              "      border: none;\n",
              "      border-radius: 50%;\n",
              "      cursor: pointer;\n",
              "      display: none;\n",
              "      fill: #1967D2;\n",
              "      height: 32px;\n",
              "      padding: 0 0 0 0;\n",
              "      width: 32px;\n",
              "    }\n",
              "\n",
              "    .colab-df-convert:hover {\n",
              "      background-color: #E2EBFA;\n",
              "      box-shadow: 0px 1px 2px rgba(60, 64, 67, 0.3), 0px 1px 3px 1px rgba(60, 64, 67, 0.15);\n",
              "      fill: #174EA6;\n",
              "    }\n",
              "\n",
              "    .colab-df-buttons div {\n",
              "      margin-bottom: 4px;\n",
              "    }\n",
              "\n",
              "    [theme=dark] .colab-df-convert {\n",
              "      background-color: #3B4455;\n",
              "      fill: #D2E3FC;\n",
              "    }\n",
              "\n",
              "    [theme=dark] .colab-df-convert:hover {\n",
              "      background-color: #434B5C;\n",
              "      box-shadow: 0px 1px 3px 1px rgba(0, 0, 0, 0.15);\n",
              "      filter: drop-shadow(0px 1px 2px rgba(0, 0, 0, 0.3));\n",
              "      fill: #FFFFFF;\n",
              "    }\n",
              "  </style>\n",
              "\n",
              "    <script>\n",
              "      const buttonEl =\n",
              "        document.querySelector('#df-8f8112bb-834c-4115-a64d-41a38d25d606 button.colab-df-convert');\n",
              "      buttonEl.style.display =\n",
              "        google.colab.kernel.accessAllowed ? 'block' : 'none';\n",
              "\n",
              "      async function convertToInteractive(key) {\n",
              "        const element = document.querySelector('#df-8f8112bb-834c-4115-a64d-41a38d25d606');\n",
              "        const dataTable =\n",
              "          await google.colab.kernel.invokeFunction('convertToInteractive',\n",
              "                                                    [key], {});\n",
              "        if (!dataTable) return;\n",
              "\n",
              "        const docLinkHtml = 'Like what you see? Visit the ' +\n",
              "          '<a target=\"_blank\" href=https://colab.research.google.com/notebooks/data_table.ipynb>data table notebook</a>'\n",
              "          + ' to learn more about interactive tables.';\n",
              "        element.innerHTML = '';\n",
              "        dataTable['output_type'] = 'display_data';\n",
              "        await google.colab.output.renderOutput(dataTable, element);\n",
              "        const docLink = document.createElement('div');\n",
              "        docLink.innerHTML = docLinkHtml;\n",
              "        element.appendChild(docLink);\n",
              "      }\n",
              "    </script>\n",
              "  </div>\n",
              "\n",
              "\n",
              "<div id=\"df-0d49ed22-e0ad-45f5-b399-fa5e26d4a35e\">\n",
              "  <button class=\"colab-df-quickchart\" onclick=\"quickchart('df-0d49ed22-e0ad-45f5-b399-fa5e26d4a35e')\"\n",
              "            title=\"Suggest charts\"\n",
              "            style=\"display:none;\">\n",
              "\n",
              "<svg xmlns=\"http://www.w3.org/2000/svg\" height=\"24px\"viewBox=\"0 0 24 24\"\n",
              "     width=\"24px\">\n",
              "    <g>\n",
              "        <path d=\"M19 3H5c-1.1 0-2 .9-2 2v14c0 1.1.9 2 2 2h14c1.1 0 2-.9 2-2V5c0-1.1-.9-2-2-2zM9 17H7v-7h2v7zm4 0h-2V7h2v10zm4 0h-2v-4h2v4z\"/>\n",
              "    </g>\n",
              "</svg>\n",
              "  </button>\n",
              "\n",
              "<style>\n",
              "  .colab-df-quickchart {\n",
              "      --bg-color: #E8F0FE;\n",
              "      --fill-color: #1967D2;\n",
              "      --hover-bg-color: #E2EBFA;\n",
              "      --hover-fill-color: #174EA6;\n",
              "      --disabled-fill-color: #AAA;\n",
              "      --disabled-bg-color: #DDD;\n",
              "  }\n",
              "\n",
              "  [theme=dark] .colab-df-quickchart {\n",
              "      --bg-color: #3B4455;\n",
              "      --fill-color: #D2E3FC;\n",
              "      --hover-bg-color: #434B5C;\n",
              "      --hover-fill-color: #FFFFFF;\n",
              "      --disabled-bg-color: #3B4455;\n",
              "      --disabled-fill-color: #666;\n",
              "  }\n",
              "\n",
              "  .colab-df-quickchart {\n",
              "    background-color: var(--bg-color);\n",
              "    border: none;\n",
              "    border-radius: 50%;\n",
              "    cursor: pointer;\n",
              "    display: none;\n",
              "    fill: var(--fill-color);\n",
              "    height: 32px;\n",
              "    padding: 0;\n",
              "    width: 32px;\n",
              "  }\n",
              "\n",
              "  .colab-df-quickchart:hover {\n",
              "    background-color: var(--hover-bg-color);\n",
              "    box-shadow: 0 1px 2px rgba(60, 64, 67, 0.3), 0 1px 3px 1px rgba(60, 64, 67, 0.15);\n",
              "    fill: var(--button-hover-fill-color);\n",
              "  }\n",
              "\n",
              "  .colab-df-quickchart-complete:disabled,\n",
              "  .colab-df-quickchart-complete:disabled:hover {\n",
              "    background-color: var(--disabled-bg-color);\n",
              "    fill: var(--disabled-fill-color);\n",
              "    box-shadow: none;\n",
              "  }\n",
              "\n",
              "  .colab-df-spinner {\n",
              "    border: 2px solid var(--fill-color);\n",
              "    border-color: transparent;\n",
              "    border-bottom-color: var(--fill-color);\n",
              "    animation:\n",
              "      spin 1s steps(1) infinite;\n",
              "  }\n",
              "\n",
              "  @keyframes spin {\n",
              "    0% {\n",
              "      border-color: transparent;\n",
              "      border-bottom-color: var(--fill-color);\n",
              "      border-left-color: var(--fill-color);\n",
              "    }\n",
              "    20% {\n",
              "      border-color: transparent;\n",
              "      border-left-color: var(--fill-color);\n",
              "      border-top-color: var(--fill-color);\n",
              "    }\n",
              "    30% {\n",
              "      border-color: transparent;\n",
              "      border-left-color: var(--fill-color);\n",
              "      border-top-color: var(--fill-color);\n",
              "      border-right-color: var(--fill-color);\n",
              "    }\n",
              "    40% {\n",
              "      border-color: transparent;\n",
              "      border-right-color: var(--fill-color);\n",
              "      border-top-color: var(--fill-color);\n",
              "    }\n",
              "    60% {\n",
              "      border-color: transparent;\n",
              "      border-right-color: var(--fill-color);\n",
              "    }\n",
              "    80% {\n",
              "      border-color: transparent;\n",
              "      border-right-color: var(--fill-color);\n",
              "      border-bottom-color: var(--fill-color);\n",
              "    }\n",
              "    90% {\n",
              "      border-color: transparent;\n",
              "      border-bottom-color: var(--fill-color);\n",
              "    }\n",
              "  }\n",
              "</style>\n",
              "\n",
              "  <script>\n",
              "    async function quickchart(key) {\n",
              "      const quickchartButtonEl =\n",
              "        document.querySelector('#' + key + ' button');\n",
              "      quickchartButtonEl.disabled = true;  // To prevent multiple clicks.\n",
              "      quickchartButtonEl.classList.add('colab-df-spinner');\n",
              "      try {\n",
              "        const charts = await google.colab.kernel.invokeFunction(\n",
              "            'suggestCharts', [key], {});\n",
              "      } catch (error) {\n",
              "        console.error('Error during call to suggestCharts:', error);\n",
              "      }\n",
              "      quickchartButtonEl.classList.remove('colab-df-spinner');\n",
              "      quickchartButtonEl.classList.add('colab-df-quickchart-complete');\n",
              "    }\n",
              "    (() => {\n",
              "      let quickchartButtonEl =\n",
              "        document.querySelector('#df-0d49ed22-e0ad-45f5-b399-fa5e26d4a35e button');\n",
              "      quickchartButtonEl.style.display =\n",
              "        google.colab.kernel.accessAllowed ? 'block' : 'none';\n",
              "    })();\n",
              "  </script>\n",
              "</div>\n",
              "\n",
              "  <div id=\"id_4233a6bd-dd6d-4c3f-b3d0-e52a97be55e4\">\n",
              "    <style>\n",
              "      .colab-df-generate {\n",
              "        background-color: #E8F0FE;\n",
              "        border: none;\n",
              "        border-radius: 50%;\n",
              "        cursor: pointer;\n",
              "        display: none;\n",
              "        fill: #1967D2;\n",
              "        height: 32px;\n",
              "        padding: 0 0 0 0;\n",
              "        width: 32px;\n",
              "      }\n",
              "\n",
              "      .colab-df-generate:hover {\n",
              "        background-color: #E2EBFA;\n",
              "        box-shadow: 0px 1px 2px rgba(60, 64, 67, 0.3), 0px 1px 3px 1px rgba(60, 64, 67, 0.15);\n",
              "        fill: #174EA6;\n",
              "      }\n",
              "\n",
              "      [theme=dark] .colab-df-generate {\n",
              "        background-color: #3B4455;\n",
              "        fill: #D2E3FC;\n",
              "      }\n",
              "\n",
              "      [theme=dark] .colab-df-generate:hover {\n",
              "        background-color: #434B5C;\n",
              "        box-shadow: 0px 1px 3px 1px rgba(0, 0, 0, 0.15);\n",
              "        filter: drop-shadow(0px 1px 2px rgba(0, 0, 0, 0.3));\n",
              "        fill: #FFFFFF;\n",
              "      }\n",
              "    </style>\n",
              "    <button class=\"colab-df-generate\" onclick=\"generateWithVariable('df')\"\n",
              "            title=\"Generate code using this dataframe.\"\n",
              "            style=\"display:none;\">\n",
              "\n",
              "  <svg xmlns=\"http://www.w3.org/2000/svg\" height=\"24px\"viewBox=\"0 0 24 24\"\n",
              "       width=\"24px\">\n",
              "    <path d=\"M7,19H8.4L18.45,9,17,7.55,7,17.6ZM5,21V16.75L18.45,3.32a2,2,0,0,1,2.83,0l1.4,1.43a1.91,1.91,0,0,1,.58,1.4,1.91,1.91,0,0,1-.58,1.4L9.25,21ZM18.45,9,17,7.55Zm-12,3A5.31,5.31,0,0,0,4.9,8.1,5.31,5.31,0,0,0,1,6.5,5.31,5.31,0,0,0,4.9,4.9,5.31,5.31,0,0,0,6.5,1,5.31,5.31,0,0,0,8.1,4.9,5.31,5.31,0,0,0,12,6.5,5.46,5.46,0,0,0,6.5,12Z\"/>\n",
              "  </svg>\n",
              "    </button>\n",
              "    <script>\n",
              "      (() => {\n",
              "      const buttonEl =\n",
              "        document.querySelector('#id_4233a6bd-dd6d-4c3f-b3d0-e52a97be55e4 button.colab-df-generate');\n",
              "      buttonEl.style.display =\n",
              "        google.colab.kernel.accessAllowed ? 'block' : 'none';\n",
              "\n",
              "      buttonEl.onclick = () => {\n",
              "        google.colab.notebook.generateWithVariable('df');\n",
              "      }\n",
              "      })();\n",
              "    </script>\n",
              "  </div>\n",
              "\n",
              "    </div>\n",
              "  </div>\n"
            ],
            "application/vnd.google.colaboratory.intrinsic+json": {
              "type": "dataframe",
              "variable_name": "df"
            }
          },
          "metadata": {},
          "execution_count": 10
        }
      ]
    },
    {
      "cell_type": "code",
      "source": [
        "distance = np.sqrt((nose[:, 0] - chin[:, 0]) ** 2 + (nose[:, 1] - chin[:, 1]) ** 2)\n",
        "distance[distance == 0] = 1"
      ],
      "metadata": {
        "id": "4CLlvwHC52Fu"
      },
      "execution_count": 11,
      "outputs": []
    },
    {
      "cell_type": "code",
      "source": [
        "normalized_x = centered_x/distance.reshape(-1,1)\n",
        "normalized_y = centered_y/distance.reshape(-1,1)"
      ],
      "metadata": {
        "id": "122x1vyk64L1"
      },
      "execution_count": 12,
      "outputs": []
    },
    {
      "cell_type": "code",
      "source": [
        "normalized = pd.DataFrame(normalized_x)"
      ],
      "metadata": {
        "id": "oc9pyGkd7Ott"
      },
      "execution_count": 13,
      "outputs": []
    },
    {
      "cell_type": "code",
      "source": [
        "features = []"
      ],
      "metadata": {
        "id": "ZTBZQsWgAXNQ"
      },
      "execution_count": 14,
      "outputs": []
    },
    {
      "cell_type": "code",
      "source": [
        "normalized_x = np.array(normalized_x)\n",
        "normalized_y = np.array(normalized_y)\n",
        "\n",
        "features = np.hstack([normalized_x, normalized_y])"
      ],
      "metadata": {
        "id": "ThHpVA0j7AuD"
      },
      "execution_count": 15,
      "outputs": []
    },
    {
      "cell_type": "code",
      "source": [
        "features_df = pd.DataFrame(features)"
      ],
      "metadata": {
        "id": "TtkCFGgDwd28"
      },
      "execution_count": 16,
      "outputs": []
    },
    {
      "cell_type": "code",
      "source": [
        "features_df"
      ],
      "metadata": {
        "colab": {
          "base_uri": "https://localhost:8080/",
          "height": 443
        },
        "id": "viLlsJJmBl6f",
        "outputId": "def179cb-4603-4436-abf8-9b3598840847"
      },
      "execution_count": 17,
      "outputs": [
        {
          "output_type": "execute_result",
          "data": {
            "text/plain": [
              "           0    1         2         3         4         5         6    \\\n",
              "0    -0.018852  0.0  0.003236 -0.050351  0.007259  0.023618  0.074478   \n",
              "1     0.138041  0.0  0.179845  0.106660 -0.008637  0.054166  0.267360   \n",
              "2    -0.036167  0.0 -0.030855 -0.105149  0.001346 -0.009985 -0.050959   \n",
              "3     0.184964  0.0  0.107441 -0.134894 -0.041753 -0.066708 -0.097645   \n",
              "4     0.076507  0.0  0.030704 -0.110813 -0.019788 -0.039909 -0.080660   \n",
              "...        ...  ...       ...       ...       ...       ...       ...   \n",
              "1848 -0.095746  0.0 -0.077184 -0.116625  0.013796  0.000002 -0.064717   \n",
              "1849 -0.109325  0.0 -0.081805 -0.100744  0.016400  0.007355 -0.043879   \n",
              "1850 -0.084971  0.0 -0.050011 -0.006879  0.024433  0.044977  0.095102   \n",
              "1851 -0.048183  0.0 -0.017882 -0.056486  0.014933  0.031023  0.068170   \n",
              "1852  0.008801  0.0 -0.003883 -0.081819 -0.001858 -0.008360 -0.025669   \n",
              "\n",
              "           7         8         9    ...       926       927       928  \\\n",
              "0    -0.667768  0.103397  0.113717  ...  0.007330 -0.022768 -0.015969   \n",
              "1     0.268567  0.323926  0.312195  ...  0.043206  0.019102  0.098784   \n",
              "2    -0.759464 -0.068157 -0.069937  ...  0.011259 -0.018911 -0.010553   \n",
              "3    -0.580387 -0.171372 -0.222976  ... -0.032250 -0.075959 -0.115414   \n",
              "4    -0.588866 -0.105150 -0.125453  ...  0.008826 -0.026157  0.009880   \n",
              "...        ...       ...       ...  ...       ...       ...       ...   \n",
              "1848 -0.950638 -0.078691 -0.067944  ...  0.010904 -0.025579  0.006944   \n",
              "1849 -0.851310 -0.044736 -0.029924  ...  0.010574 -0.024911 -0.005777   \n",
              "1850 -0.451680  0.153659  0.189392  ...  0.053483  0.035677  0.097620   \n",
              "1851 -0.781639  0.097573  0.114651  ...  0.021488 -0.008260  0.020774   \n",
              "1852 -0.616609 -0.030988 -0.030973  ...  0.033860  0.003574  0.062887   \n",
              "\n",
              "           929       930       931       932       933       934       935  \n",
              "0     0.024269  0.025193 -0.822416 -0.781576 -0.741364 -0.895837 -0.934839  \n",
              "1     0.046183  0.071900 -0.485956 -0.458790 -0.440621 -0.524195 -0.551868  \n",
              "2     0.024148  0.033236 -0.601383 -0.569894 -0.544548 -0.649772 -0.683301  \n",
              "3    -0.010755 -0.008673 -0.822403 -0.770528 -0.727266 -1.066225 -1.125301  \n",
              "4     0.020118  0.038680 -0.536937 -0.507487 -0.489883 -0.664578 -0.682593  \n",
              "...        ...       ...       ...       ...       ...       ...       ...  \n",
              "1848  0.025637  0.038616 -0.708236 -0.674614 -0.646147 -0.804009 -0.832053  \n",
              "1849  0.026184  0.034759 -0.727055 -0.690496 -0.658761 -0.795007 -0.840669  \n",
              "1850  0.055858  0.072798 -0.425947 -0.415686 -0.406506 -0.377094 -0.412571  \n",
              "1851  0.035398  0.042692 -0.787839 -0.754294 -0.722160 -0.833005 -0.873595  \n",
              "1852  0.042183  0.063492 -0.517529 -0.499315 -0.488921 -0.564697 -0.600695  \n",
              "\n",
              "[1853 rows x 936 columns]"
            ],
            "text/html": [
              "\n",
              "  <div id=\"df-d16d695a-3e61-44ec-b4c0-b5d6c20a5a5b\" class=\"colab-df-container\">\n",
              "    <div>\n",
              "<style scoped>\n",
              "    .dataframe tbody tr th:only-of-type {\n",
              "        vertical-align: middle;\n",
              "    }\n",
              "\n",
              "    .dataframe tbody tr th {\n",
              "        vertical-align: top;\n",
              "    }\n",
              "\n",
              "    .dataframe thead th {\n",
              "        text-align: right;\n",
              "    }\n",
              "</style>\n",
              "<table border=\"1\" class=\"dataframe\">\n",
              "  <thead>\n",
              "    <tr style=\"text-align: right;\">\n",
              "      <th></th>\n",
              "      <th>0</th>\n",
              "      <th>1</th>\n",
              "      <th>2</th>\n",
              "      <th>3</th>\n",
              "      <th>4</th>\n",
              "      <th>5</th>\n",
              "      <th>6</th>\n",
              "      <th>7</th>\n",
              "      <th>8</th>\n",
              "      <th>9</th>\n",
              "      <th>...</th>\n",
              "      <th>926</th>\n",
              "      <th>927</th>\n",
              "      <th>928</th>\n",
              "      <th>929</th>\n",
              "      <th>930</th>\n",
              "      <th>931</th>\n",
              "      <th>932</th>\n",
              "      <th>933</th>\n",
              "      <th>934</th>\n",
              "      <th>935</th>\n",
              "    </tr>\n",
              "  </thead>\n",
              "  <tbody>\n",
              "    <tr>\n",
              "      <th>0</th>\n",
              "      <td>-0.018852</td>\n",
              "      <td>0.0</td>\n",
              "      <td>0.003236</td>\n",
              "      <td>-0.050351</td>\n",
              "      <td>0.007259</td>\n",
              "      <td>0.023618</td>\n",
              "      <td>0.074478</td>\n",
              "      <td>-0.667768</td>\n",
              "      <td>0.103397</td>\n",
              "      <td>0.113717</td>\n",
              "      <td>...</td>\n",
              "      <td>0.007330</td>\n",
              "      <td>-0.022768</td>\n",
              "      <td>-0.015969</td>\n",
              "      <td>0.024269</td>\n",
              "      <td>0.025193</td>\n",
              "      <td>-0.822416</td>\n",
              "      <td>-0.781576</td>\n",
              "      <td>-0.741364</td>\n",
              "      <td>-0.895837</td>\n",
              "      <td>-0.934839</td>\n",
              "    </tr>\n",
              "    <tr>\n",
              "      <th>1</th>\n",
              "      <td>0.138041</td>\n",
              "      <td>0.0</td>\n",
              "      <td>0.179845</td>\n",
              "      <td>0.106660</td>\n",
              "      <td>-0.008637</td>\n",
              "      <td>0.054166</td>\n",
              "      <td>0.267360</td>\n",
              "      <td>0.268567</td>\n",
              "      <td>0.323926</td>\n",
              "      <td>0.312195</td>\n",
              "      <td>...</td>\n",
              "      <td>0.043206</td>\n",
              "      <td>0.019102</td>\n",
              "      <td>0.098784</td>\n",
              "      <td>0.046183</td>\n",
              "      <td>0.071900</td>\n",
              "      <td>-0.485956</td>\n",
              "      <td>-0.458790</td>\n",
              "      <td>-0.440621</td>\n",
              "      <td>-0.524195</td>\n",
              "      <td>-0.551868</td>\n",
              "    </tr>\n",
              "    <tr>\n",
              "      <th>2</th>\n",
              "      <td>-0.036167</td>\n",
              "      <td>0.0</td>\n",
              "      <td>-0.030855</td>\n",
              "      <td>-0.105149</td>\n",
              "      <td>0.001346</td>\n",
              "      <td>-0.009985</td>\n",
              "      <td>-0.050959</td>\n",
              "      <td>-0.759464</td>\n",
              "      <td>-0.068157</td>\n",
              "      <td>-0.069937</td>\n",
              "      <td>...</td>\n",
              "      <td>0.011259</td>\n",
              "      <td>-0.018911</td>\n",
              "      <td>-0.010553</td>\n",
              "      <td>0.024148</td>\n",
              "      <td>0.033236</td>\n",
              "      <td>-0.601383</td>\n",
              "      <td>-0.569894</td>\n",
              "      <td>-0.544548</td>\n",
              "      <td>-0.649772</td>\n",
              "      <td>-0.683301</td>\n",
              "    </tr>\n",
              "    <tr>\n",
              "      <th>3</th>\n",
              "      <td>0.184964</td>\n",
              "      <td>0.0</td>\n",
              "      <td>0.107441</td>\n",
              "      <td>-0.134894</td>\n",
              "      <td>-0.041753</td>\n",
              "      <td>-0.066708</td>\n",
              "      <td>-0.097645</td>\n",
              "      <td>-0.580387</td>\n",
              "      <td>-0.171372</td>\n",
              "      <td>-0.222976</td>\n",
              "      <td>...</td>\n",
              "      <td>-0.032250</td>\n",
              "      <td>-0.075959</td>\n",
              "      <td>-0.115414</td>\n",
              "      <td>-0.010755</td>\n",
              "      <td>-0.008673</td>\n",
              "      <td>-0.822403</td>\n",
              "      <td>-0.770528</td>\n",
              "      <td>-0.727266</td>\n",
              "      <td>-1.066225</td>\n",
              "      <td>-1.125301</td>\n",
              "    </tr>\n",
              "    <tr>\n",
              "      <th>4</th>\n",
              "      <td>0.076507</td>\n",
              "      <td>0.0</td>\n",
              "      <td>0.030704</td>\n",
              "      <td>-0.110813</td>\n",
              "      <td>-0.019788</td>\n",
              "      <td>-0.039909</td>\n",
              "      <td>-0.080660</td>\n",
              "      <td>-0.588866</td>\n",
              "      <td>-0.105150</td>\n",
              "      <td>-0.125453</td>\n",
              "      <td>...</td>\n",
              "      <td>0.008826</td>\n",
              "      <td>-0.026157</td>\n",
              "      <td>0.009880</td>\n",
              "      <td>0.020118</td>\n",
              "      <td>0.038680</td>\n",
              "      <td>-0.536937</td>\n",
              "      <td>-0.507487</td>\n",
              "      <td>-0.489883</td>\n",
              "      <td>-0.664578</td>\n",
              "      <td>-0.682593</td>\n",
              "    </tr>\n",
              "    <tr>\n",
              "      <th>...</th>\n",
              "      <td>...</td>\n",
              "      <td>...</td>\n",
              "      <td>...</td>\n",
              "      <td>...</td>\n",
              "      <td>...</td>\n",
              "      <td>...</td>\n",
              "      <td>...</td>\n",
              "      <td>...</td>\n",
              "      <td>...</td>\n",
              "      <td>...</td>\n",
              "      <td>...</td>\n",
              "      <td>...</td>\n",
              "      <td>...</td>\n",
              "      <td>...</td>\n",
              "      <td>...</td>\n",
              "      <td>...</td>\n",
              "      <td>...</td>\n",
              "      <td>...</td>\n",
              "      <td>...</td>\n",
              "      <td>...</td>\n",
              "      <td>...</td>\n",
              "    </tr>\n",
              "    <tr>\n",
              "      <th>1848</th>\n",
              "      <td>-0.095746</td>\n",
              "      <td>0.0</td>\n",
              "      <td>-0.077184</td>\n",
              "      <td>-0.116625</td>\n",
              "      <td>0.013796</td>\n",
              "      <td>0.000002</td>\n",
              "      <td>-0.064717</td>\n",
              "      <td>-0.950638</td>\n",
              "      <td>-0.078691</td>\n",
              "      <td>-0.067944</td>\n",
              "      <td>...</td>\n",
              "      <td>0.010904</td>\n",
              "      <td>-0.025579</td>\n",
              "      <td>0.006944</td>\n",
              "      <td>0.025637</td>\n",
              "      <td>0.038616</td>\n",
              "      <td>-0.708236</td>\n",
              "      <td>-0.674614</td>\n",
              "      <td>-0.646147</td>\n",
              "      <td>-0.804009</td>\n",
              "      <td>-0.832053</td>\n",
              "    </tr>\n",
              "    <tr>\n",
              "      <th>1849</th>\n",
              "      <td>-0.109325</td>\n",
              "      <td>0.0</td>\n",
              "      <td>-0.081805</td>\n",
              "      <td>-0.100744</td>\n",
              "      <td>0.016400</td>\n",
              "      <td>0.007355</td>\n",
              "      <td>-0.043879</td>\n",
              "      <td>-0.851310</td>\n",
              "      <td>-0.044736</td>\n",
              "      <td>-0.029924</td>\n",
              "      <td>...</td>\n",
              "      <td>0.010574</td>\n",
              "      <td>-0.024911</td>\n",
              "      <td>-0.005777</td>\n",
              "      <td>0.026184</td>\n",
              "      <td>0.034759</td>\n",
              "      <td>-0.727055</td>\n",
              "      <td>-0.690496</td>\n",
              "      <td>-0.658761</td>\n",
              "      <td>-0.795007</td>\n",
              "      <td>-0.840669</td>\n",
              "    </tr>\n",
              "    <tr>\n",
              "      <th>1850</th>\n",
              "      <td>-0.084971</td>\n",
              "      <td>0.0</td>\n",
              "      <td>-0.050011</td>\n",
              "      <td>-0.006879</td>\n",
              "      <td>0.024433</td>\n",
              "      <td>0.044977</td>\n",
              "      <td>0.095102</td>\n",
              "      <td>-0.451680</td>\n",
              "      <td>0.153659</td>\n",
              "      <td>0.189392</td>\n",
              "      <td>...</td>\n",
              "      <td>0.053483</td>\n",
              "      <td>0.035677</td>\n",
              "      <td>0.097620</td>\n",
              "      <td>0.055858</td>\n",
              "      <td>0.072798</td>\n",
              "      <td>-0.425947</td>\n",
              "      <td>-0.415686</td>\n",
              "      <td>-0.406506</td>\n",
              "      <td>-0.377094</td>\n",
              "      <td>-0.412571</td>\n",
              "    </tr>\n",
              "    <tr>\n",
              "      <th>1851</th>\n",
              "      <td>-0.048183</td>\n",
              "      <td>0.0</td>\n",
              "      <td>-0.017882</td>\n",
              "      <td>-0.056486</td>\n",
              "      <td>0.014933</td>\n",
              "      <td>0.031023</td>\n",
              "      <td>0.068170</td>\n",
              "      <td>-0.781639</td>\n",
              "      <td>0.097573</td>\n",
              "      <td>0.114651</td>\n",
              "      <td>...</td>\n",
              "      <td>0.021488</td>\n",
              "      <td>-0.008260</td>\n",
              "      <td>0.020774</td>\n",
              "      <td>0.035398</td>\n",
              "      <td>0.042692</td>\n",
              "      <td>-0.787839</td>\n",
              "      <td>-0.754294</td>\n",
              "      <td>-0.722160</td>\n",
              "      <td>-0.833005</td>\n",
              "      <td>-0.873595</td>\n",
              "    </tr>\n",
              "    <tr>\n",
              "      <th>1852</th>\n",
              "      <td>0.008801</td>\n",
              "      <td>0.0</td>\n",
              "      <td>-0.003883</td>\n",
              "      <td>-0.081819</td>\n",
              "      <td>-0.001858</td>\n",
              "      <td>-0.008360</td>\n",
              "      <td>-0.025669</td>\n",
              "      <td>-0.616609</td>\n",
              "      <td>-0.030988</td>\n",
              "      <td>-0.030973</td>\n",
              "      <td>...</td>\n",
              "      <td>0.033860</td>\n",
              "      <td>0.003574</td>\n",
              "      <td>0.062887</td>\n",
              "      <td>0.042183</td>\n",
              "      <td>0.063492</td>\n",
              "      <td>-0.517529</td>\n",
              "      <td>-0.499315</td>\n",
              "      <td>-0.488921</td>\n",
              "      <td>-0.564697</td>\n",
              "      <td>-0.600695</td>\n",
              "    </tr>\n",
              "  </tbody>\n",
              "</table>\n",
              "<p>1853 rows × 936 columns</p>\n",
              "</div>\n",
              "    <div class=\"colab-df-buttons\">\n",
              "\n",
              "  <div class=\"colab-df-container\">\n",
              "    <button class=\"colab-df-convert\" onclick=\"convertToInteractive('df-d16d695a-3e61-44ec-b4c0-b5d6c20a5a5b')\"\n",
              "            title=\"Convert this dataframe to an interactive table.\"\n",
              "            style=\"display:none;\">\n",
              "\n",
              "  <svg xmlns=\"http://www.w3.org/2000/svg\" height=\"24px\" viewBox=\"0 -960 960 960\">\n",
              "    <path d=\"M120-120v-720h720v720H120Zm60-500h600v-160H180v160Zm220 220h160v-160H400v160Zm0 220h160v-160H400v160ZM180-400h160v-160H180v160Zm440 0h160v-160H620v160ZM180-180h160v-160H180v160Zm440 0h160v-160H620v160Z\"/>\n",
              "  </svg>\n",
              "    </button>\n",
              "\n",
              "  <style>\n",
              "    .colab-df-container {\n",
              "      display:flex;\n",
              "      gap: 12px;\n",
              "    }\n",
              "\n",
              "    .colab-df-convert {\n",
              "      background-color: #E8F0FE;\n",
              "      border: none;\n",
              "      border-radius: 50%;\n",
              "      cursor: pointer;\n",
              "      display: none;\n",
              "      fill: #1967D2;\n",
              "      height: 32px;\n",
              "      padding: 0 0 0 0;\n",
              "      width: 32px;\n",
              "    }\n",
              "\n",
              "    .colab-df-convert:hover {\n",
              "      background-color: #E2EBFA;\n",
              "      box-shadow: 0px 1px 2px rgba(60, 64, 67, 0.3), 0px 1px 3px 1px rgba(60, 64, 67, 0.15);\n",
              "      fill: #174EA6;\n",
              "    }\n",
              "\n",
              "    .colab-df-buttons div {\n",
              "      margin-bottom: 4px;\n",
              "    }\n",
              "\n",
              "    [theme=dark] .colab-df-convert {\n",
              "      background-color: #3B4455;\n",
              "      fill: #D2E3FC;\n",
              "    }\n",
              "\n",
              "    [theme=dark] .colab-df-convert:hover {\n",
              "      background-color: #434B5C;\n",
              "      box-shadow: 0px 1px 3px 1px rgba(0, 0, 0, 0.15);\n",
              "      filter: drop-shadow(0px 1px 2px rgba(0, 0, 0, 0.3));\n",
              "      fill: #FFFFFF;\n",
              "    }\n",
              "  </style>\n",
              "\n",
              "    <script>\n",
              "      const buttonEl =\n",
              "        document.querySelector('#df-d16d695a-3e61-44ec-b4c0-b5d6c20a5a5b button.colab-df-convert');\n",
              "      buttonEl.style.display =\n",
              "        google.colab.kernel.accessAllowed ? 'block' : 'none';\n",
              "\n",
              "      async function convertToInteractive(key) {\n",
              "        const element = document.querySelector('#df-d16d695a-3e61-44ec-b4c0-b5d6c20a5a5b');\n",
              "        const dataTable =\n",
              "          await google.colab.kernel.invokeFunction('convertToInteractive',\n",
              "                                                    [key], {});\n",
              "        if (!dataTable) return;\n",
              "\n",
              "        const docLinkHtml = 'Like what you see? Visit the ' +\n",
              "          '<a target=\"_blank\" href=https://colab.research.google.com/notebooks/data_table.ipynb>data table notebook</a>'\n",
              "          + ' to learn more about interactive tables.';\n",
              "        element.innerHTML = '';\n",
              "        dataTable['output_type'] = 'display_data';\n",
              "        await google.colab.output.renderOutput(dataTable, element);\n",
              "        const docLink = document.createElement('div');\n",
              "        docLink.innerHTML = docLinkHtml;\n",
              "        element.appendChild(docLink);\n",
              "      }\n",
              "    </script>\n",
              "  </div>\n",
              "\n",
              "\n",
              "<div id=\"df-08432859-802a-40ba-9599-f5143386fe86\">\n",
              "  <button class=\"colab-df-quickchart\" onclick=\"quickchart('df-08432859-802a-40ba-9599-f5143386fe86')\"\n",
              "            title=\"Suggest charts\"\n",
              "            style=\"display:none;\">\n",
              "\n",
              "<svg xmlns=\"http://www.w3.org/2000/svg\" height=\"24px\"viewBox=\"0 0 24 24\"\n",
              "     width=\"24px\">\n",
              "    <g>\n",
              "        <path d=\"M19 3H5c-1.1 0-2 .9-2 2v14c0 1.1.9 2 2 2h14c1.1 0 2-.9 2-2V5c0-1.1-.9-2-2-2zM9 17H7v-7h2v7zm4 0h-2V7h2v10zm4 0h-2v-4h2v4z\"/>\n",
              "    </g>\n",
              "</svg>\n",
              "  </button>\n",
              "\n",
              "<style>\n",
              "  .colab-df-quickchart {\n",
              "      --bg-color: #E8F0FE;\n",
              "      --fill-color: #1967D2;\n",
              "      --hover-bg-color: #E2EBFA;\n",
              "      --hover-fill-color: #174EA6;\n",
              "      --disabled-fill-color: #AAA;\n",
              "      --disabled-bg-color: #DDD;\n",
              "  }\n",
              "\n",
              "  [theme=dark] .colab-df-quickchart {\n",
              "      --bg-color: #3B4455;\n",
              "      --fill-color: #D2E3FC;\n",
              "      --hover-bg-color: #434B5C;\n",
              "      --hover-fill-color: #FFFFFF;\n",
              "      --disabled-bg-color: #3B4455;\n",
              "      --disabled-fill-color: #666;\n",
              "  }\n",
              "\n",
              "  .colab-df-quickchart {\n",
              "    background-color: var(--bg-color);\n",
              "    border: none;\n",
              "    border-radius: 50%;\n",
              "    cursor: pointer;\n",
              "    display: none;\n",
              "    fill: var(--fill-color);\n",
              "    height: 32px;\n",
              "    padding: 0;\n",
              "    width: 32px;\n",
              "  }\n",
              "\n",
              "  .colab-df-quickchart:hover {\n",
              "    background-color: var(--hover-bg-color);\n",
              "    box-shadow: 0 1px 2px rgba(60, 64, 67, 0.3), 0 1px 3px 1px rgba(60, 64, 67, 0.15);\n",
              "    fill: var(--button-hover-fill-color);\n",
              "  }\n",
              "\n",
              "  .colab-df-quickchart-complete:disabled,\n",
              "  .colab-df-quickchart-complete:disabled:hover {\n",
              "    background-color: var(--disabled-bg-color);\n",
              "    fill: var(--disabled-fill-color);\n",
              "    box-shadow: none;\n",
              "  }\n",
              "\n",
              "  .colab-df-spinner {\n",
              "    border: 2px solid var(--fill-color);\n",
              "    border-color: transparent;\n",
              "    border-bottom-color: var(--fill-color);\n",
              "    animation:\n",
              "      spin 1s steps(1) infinite;\n",
              "  }\n",
              "\n",
              "  @keyframes spin {\n",
              "    0% {\n",
              "      border-color: transparent;\n",
              "      border-bottom-color: var(--fill-color);\n",
              "      border-left-color: var(--fill-color);\n",
              "    }\n",
              "    20% {\n",
              "      border-color: transparent;\n",
              "      border-left-color: var(--fill-color);\n",
              "      border-top-color: var(--fill-color);\n",
              "    }\n",
              "    30% {\n",
              "      border-color: transparent;\n",
              "      border-left-color: var(--fill-color);\n",
              "      border-top-color: var(--fill-color);\n",
              "      border-right-color: var(--fill-color);\n",
              "    }\n",
              "    40% {\n",
              "      border-color: transparent;\n",
              "      border-right-color: var(--fill-color);\n",
              "      border-top-color: var(--fill-color);\n",
              "    }\n",
              "    60% {\n",
              "      border-color: transparent;\n",
              "      border-right-color: var(--fill-color);\n",
              "    }\n",
              "    80% {\n",
              "      border-color: transparent;\n",
              "      border-right-color: var(--fill-color);\n",
              "      border-bottom-color: var(--fill-color);\n",
              "    }\n",
              "    90% {\n",
              "      border-color: transparent;\n",
              "      border-bottom-color: var(--fill-color);\n",
              "    }\n",
              "  }\n",
              "</style>\n",
              "\n",
              "  <script>\n",
              "    async function quickchart(key) {\n",
              "      const quickchartButtonEl =\n",
              "        document.querySelector('#' + key + ' button');\n",
              "      quickchartButtonEl.disabled = true;  // To prevent multiple clicks.\n",
              "      quickchartButtonEl.classList.add('colab-df-spinner');\n",
              "      try {\n",
              "        const charts = await google.colab.kernel.invokeFunction(\n",
              "            'suggestCharts', [key], {});\n",
              "      } catch (error) {\n",
              "        console.error('Error during call to suggestCharts:', error);\n",
              "      }\n",
              "      quickchartButtonEl.classList.remove('colab-df-spinner');\n",
              "      quickchartButtonEl.classList.add('colab-df-quickchart-complete');\n",
              "    }\n",
              "    (() => {\n",
              "      let quickchartButtonEl =\n",
              "        document.querySelector('#df-08432859-802a-40ba-9599-f5143386fe86 button');\n",
              "      quickchartButtonEl.style.display =\n",
              "        google.colab.kernel.accessAllowed ? 'block' : 'none';\n",
              "    })();\n",
              "  </script>\n",
              "</div>\n",
              "\n",
              "  <div id=\"id_702859cc-2f7b-4b1a-bbb3-85043d48d5a6\">\n",
              "    <style>\n",
              "      .colab-df-generate {\n",
              "        background-color: #E8F0FE;\n",
              "        border: none;\n",
              "        border-radius: 50%;\n",
              "        cursor: pointer;\n",
              "        display: none;\n",
              "        fill: #1967D2;\n",
              "        height: 32px;\n",
              "        padding: 0 0 0 0;\n",
              "        width: 32px;\n",
              "      }\n",
              "\n",
              "      .colab-df-generate:hover {\n",
              "        background-color: #E2EBFA;\n",
              "        box-shadow: 0px 1px 2px rgba(60, 64, 67, 0.3), 0px 1px 3px 1px rgba(60, 64, 67, 0.15);\n",
              "        fill: #174EA6;\n",
              "      }\n",
              "\n",
              "      [theme=dark] .colab-df-generate {\n",
              "        background-color: #3B4455;\n",
              "        fill: #D2E3FC;\n",
              "      }\n",
              "\n",
              "      [theme=dark] .colab-df-generate:hover {\n",
              "        background-color: #434B5C;\n",
              "        box-shadow: 0px 1px 3px 1px rgba(0, 0, 0, 0.15);\n",
              "        filter: drop-shadow(0px 1px 2px rgba(0, 0, 0, 0.3));\n",
              "        fill: #FFFFFF;\n",
              "      }\n",
              "    </style>\n",
              "    <button class=\"colab-df-generate\" onclick=\"generateWithVariable('features_df')\"\n",
              "            title=\"Generate code using this dataframe.\"\n",
              "            style=\"display:none;\">\n",
              "\n",
              "  <svg xmlns=\"http://www.w3.org/2000/svg\" height=\"24px\"viewBox=\"0 0 24 24\"\n",
              "       width=\"24px\">\n",
              "    <path d=\"M7,19H8.4L18.45,9,17,7.55,7,17.6ZM5,21V16.75L18.45,3.32a2,2,0,0,1,2.83,0l1.4,1.43a1.91,1.91,0,0,1,.58,1.4,1.91,1.91,0,0,1-.58,1.4L9.25,21ZM18.45,9,17,7.55Zm-12,3A5.31,5.31,0,0,0,4.9,8.1,5.31,5.31,0,0,0,1,6.5,5.31,5.31,0,0,0,4.9,4.9,5.31,5.31,0,0,0,6.5,1,5.31,5.31,0,0,0,8.1,4.9,5.31,5.31,0,0,0,12,6.5,5.46,5.46,0,0,0,6.5,12Z\"/>\n",
              "  </svg>\n",
              "    </button>\n",
              "    <script>\n",
              "      (() => {\n",
              "      const buttonEl =\n",
              "        document.querySelector('#id_702859cc-2f7b-4b1a-bbb3-85043d48d5a6 button.colab-df-generate');\n",
              "      buttonEl.style.display =\n",
              "        google.colab.kernel.accessAllowed ? 'block' : 'none';\n",
              "\n",
              "      buttonEl.onclick = () => {\n",
              "        google.colab.notebook.generateWithVariable('features_df');\n",
              "      }\n",
              "      })();\n",
              "    </script>\n",
              "  </div>\n",
              "\n",
              "    </div>\n",
              "  </div>\n"
            ],
            "application/vnd.google.colaboratory.intrinsic+json": {
              "type": "dataframe",
              "variable_name": "features_df"
            }
          },
          "metadata": {},
          "execution_count": 17
        }
      ]
    },
    {
      "cell_type": "code",
      "source": [
        "poses_df = pd.DataFrame(poses)"
      ],
      "metadata": {
        "id": "6vbKtUiE6cKz"
      },
      "execution_count": 18,
      "outputs": []
    },
    {
      "cell_type": "markdown",
      "source": [
        "## Splitting Data"
      ],
      "metadata": {
        "id": "8OJpANLZFhq6"
      }
    },
    {
      "cell_type": "code",
      "source": [
        "from sklearn.model_selection import train_test_split\n",
        "X_train, X_val_test, y_train, y_val_test = train_test_split(features, poses, train_size=0.80, random_state=42)\n",
        "X_val, X_test, y_val, y_test = train_test_split(X_val_test, y_val_test, test_size=0.10, random_state=42)"
      ],
      "metadata": {
        "id": "ZBtwBqV7FkJW"
      },
      "execution_count": 19,
      "outputs": []
    },
    {
      "cell_type": "code",
      "source": [
        "y_train = np.array(y_train)\n",
        "y_test = np.array(y_test)\n",
        "y_val = np.array(y_val)"
      ],
      "metadata": {
        "id": "HkIkAVOuG-e-"
      },
      "execution_count": 20,
      "outputs": []
    },
    {
      "cell_type": "code",
      "source": [
        "pitch_train = y_train[:,0]\n",
        "yaw_train = y_train[:,1]\n",
        "roll_train = y_train[:,2]"
      ],
      "metadata": {
        "id": "HyYo-cfkGhZo"
      },
      "execution_count": 21,
      "outputs": []
    },
    {
      "cell_type": "code",
      "source": [
        "pitch_val = y_val[:,0]\n",
        "yaw_val = y_val[:,1]\n",
        "roll_val = y_val[:,2]"
      ],
      "metadata": {
        "id": "soShF1UeGw56"
      },
      "execution_count": 22,
      "outputs": []
    },
    {
      "cell_type": "code",
      "source": [
        "pitch_test = y_test[:,0]\n",
        "yaw_test = y_test[:,1]\n",
        "roll_test = y_test[:,2]"
      ],
      "metadata": {
        "id": "HIDcbYnNGxVr"
      },
      "execution_count": 23,
      "outputs": []
    },
    {
      "cell_type": "markdown",
      "source": [
        "## Training Models"
      ],
      "metadata": {
        "id": "VHbZFMKZDFeN"
      }
    },
    {
      "cell_type": "code",
      "source": [
        "from sklearn.linear_model import LinearRegression"
      ],
      "metadata": {
        "id": "ESCkH3luaWeV"
      },
      "execution_count": null,
      "outputs": []
    },
    {
      "cell_type": "code",
      "source": [
        "from sklearn.metrics import mean_absolute_error"
      ],
      "metadata": {
        "id": "oYj54edCc7M5"
      },
      "execution_count": 26,
      "outputs": []
    },
    {
      "cell_type": "markdown",
      "source": [
        "### Linear Regression"
      ],
      "metadata": {
        "id": "B78lHWsEZ-2N"
      }
    },
    {
      "cell_type": "code",
      "source": [
        "lr_pitch = LinearRegression()\n",
        "lr_pitch.fit(X_train, pitch_train)"
      ],
      "metadata": {
        "colab": {
          "base_uri": "https://localhost:8080/",
          "height": 74
        },
        "id": "KqpzDHeqaSiQ",
        "outputId": "9b702040-52f5-47aa-e217-fed6d2c6d4fa"
      },
      "execution_count": null,
      "outputs": [
        {
          "output_type": "execute_result",
          "data": {
            "text/plain": [
              "LinearRegression()"
            ],
            "text/html": [
              "<style>#sk-container-id-1 {color: black;background-color: white;}#sk-container-id-1 pre{padding: 0;}#sk-container-id-1 div.sk-toggleable {background-color: white;}#sk-container-id-1 label.sk-toggleable__label {cursor: pointer;display: block;width: 100%;margin-bottom: 0;padding: 0.3em;box-sizing: border-box;text-align: center;}#sk-container-id-1 label.sk-toggleable__label-arrow:before {content: \"▸\";float: left;margin-right: 0.25em;color: #696969;}#sk-container-id-1 label.sk-toggleable__label-arrow:hover:before {color: black;}#sk-container-id-1 div.sk-estimator:hover label.sk-toggleable__label-arrow:before {color: black;}#sk-container-id-1 div.sk-toggleable__content {max-height: 0;max-width: 0;overflow: hidden;text-align: left;background-color: #f0f8ff;}#sk-container-id-1 div.sk-toggleable__content pre {margin: 0.2em;color: black;border-radius: 0.25em;background-color: #f0f8ff;}#sk-container-id-1 input.sk-toggleable__control:checked~div.sk-toggleable__content {max-height: 200px;max-width: 100%;overflow: auto;}#sk-container-id-1 input.sk-toggleable__control:checked~label.sk-toggleable__label-arrow:before {content: \"▾\";}#sk-container-id-1 div.sk-estimator input.sk-toggleable__control:checked~label.sk-toggleable__label {background-color: #d4ebff;}#sk-container-id-1 div.sk-label input.sk-toggleable__control:checked~label.sk-toggleable__label {background-color: #d4ebff;}#sk-container-id-1 input.sk-hidden--visually {border: 0;clip: rect(1px 1px 1px 1px);clip: rect(1px, 1px, 1px, 1px);height: 1px;margin: -1px;overflow: hidden;padding: 0;position: absolute;width: 1px;}#sk-container-id-1 div.sk-estimator {font-family: monospace;background-color: #f0f8ff;border: 1px dotted black;border-radius: 0.25em;box-sizing: border-box;margin-bottom: 0.5em;}#sk-container-id-1 div.sk-estimator:hover {background-color: #d4ebff;}#sk-container-id-1 div.sk-parallel-item::after {content: \"\";width: 100%;border-bottom: 1px solid gray;flex-grow: 1;}#sk-container-id-1 div.sk-label:hover label.sk-toggleable__label {background-color: #d4ebff;}#sk-container-id-1 div.sk-serial::before {content: \"\";position: absolute;border-left: 1px solid gray;box-sizing: border-box;top: 0;bottom: 0;left: 50%;z-index: 0;}#sk-container-id-1 div.sk-serial {display: flex;flex-direction: column;align-items: center;background-color: white;padding-right: 0.2em;padding-left: 0.2em;position: relative;}#sk-container-id-1 div.sk-item {position: relative;z-index: 1;}#sk-container-id-1 div.sk-parallel {display: flex;align-items: stretch;justify-content: center;background-color: white;position: relative;}#sk-container-id-1 div.sk-item::before, #sk-container-id-1 div.sk-parallel-item::before {content: \"\";position: absolute;border-left: 1px solid gray;box-sizing: border-box;top: 0;bottom: 0;left: 50%;z-index: -1;}#sk-container-id-1 div.sk-parallel-item {display: flex;flex-direction: column;z-index: 1;position: relative;background-color: white;}#sk-container-id-1 div.sk-parallel-item:first-child::after {align-self: flex-end;width: 50%;}#sk-container-id-1 div.sk-parallel-item:last-child::after {align-self: flex-start;width: 50%;}#sk-container-id-1 div.sk-parallel-item:only-child::after {width: 0;}#sk-container-id-1 div.sk-dashed-wrapped {border: 1px dashed gray;margin: 0 0.4em 0.5em 0.4em;box-sizing: border-box;padding-bottom: 0.4em;background-color: white;}#sk-container-id-1 div.sk-label label {font-family: monospace;font-weight: bold;display: inline-block;line-height: 1.2em;}#sk-container-id-1 div.sk-label-container {text-align: center;}#sk-container-id-1 div.sk-container {/* jupyter's `normalize.less` sets `[hidden] { display: none; }` but bootstrap.min.css set `[hidden] { display: none !important; }` so we also need the `!important` here to be able to override the default hidden behavior on the sphinx rendered scikit-learn.org. See: https://github.com/scikit-learn/scikit-learn/issues/21755 */display: inline-block !important;position: relative;}#sk-container-id-1 div.sk-text-repr-fallback {display: none;}</style><div id=\"sk-container-id-1\" class=\"sk-top-container\"><div class=\"sk-text-repr-fallback\"><pre>LinearRegression()</pre><b>In a Jupyter environment, please rerun this cell to show the HTML representation or trust the notebook. <br />On GitHub, the HTML representation is unable to render, please try loading this page with nbviewer.org.</b></div><div class=\"sk-container\" hidden><div class=\"sk-item\"><div class=\"sk-estimator sk-toggleable\"><input class=\"sk-toggleable__control sk-hidden--visually\" id=\"sk-estimator-id-1\" type=\"checkbox\" checked><label for=\"sk-estimator-id-1\" class=\"sk-toggleable__label sk-toggleable__label-arrow\">LinearRegression</label><div class=\"sk-toggleable__content\"><pre>LinearRegression()</pre></div></div></div></div></div>"
            ]
          },
          "metadata": {},
          "execution_count": 33
        }
      ]
    },
    {
      "cell_type": "code",
      "source": [
        "lr_pitch.score(X_val, pitch_val)"
      ],
      "metadata": {
        "colab": {
          "base_uri": "https://localhost:8080/"
        },
        "id": "gPPeynRack0B",
        "outputId": "feeb2ab9-0cbc-47f8-fd6e-a98c4cbe9fb8"
      },
      "execution_count": null,
      "outputs": [
        {
          "output_type": "execute_result",
          "data": {
            "text/plain": [
              "-2.319877131617806"
            ]
          },
          "metadata": {},
          "execution_count": 34
        }
      ]
    },
    {
      "cell_type": "code",
      "source": [
        "lr_pitch.score(X_test, pitch_test)"
      ],
      "metadata": {
        "colab": {
          "base_uri": "https://localhost:8080/"
        },
        "id": "6ERj6Eobekgo",
        "outputId": "b85b4d22-8506-4563-9aa3-14241995fa6d"
      },
      "execution_count": null,
      "outputs": [
        {
          "output_type": "execute_result",
          "data": {
            "text/plain": [
              "-3.1419326956044875"
            ]
          },
          "metadata": {},
          "execution_count": 35
        }
      ]
    },
    {
      "cell_type": "markdown",
      "source": [
        "### SVM"
      ],
      "metadata": {
        "id": "z6-DNQ6LeySG"
      }
    },
    {
      "cell_type": "code",
      "source": [
        "from sklearn.decomposition import PCA\n",
        "from sklearn.svm import SVR\n",
        "from sklearn.model_selection import GridSearchCV\n",
        "from sklearn.pipeline import Pipeline\n",
        "from sklearn.preprocessing import StandardScaler\n"
      ],
      "metadata": {
        "id": "aRS8y6N9DE0x"
      },
      "execution_count": 24,
      "outputs": []
    },
    {
      "cell_type": "code",
      "source": [
        "svm_model = SVR()\n",
        "\n",
        "param = {\n",
        "    'kernel': ['rbf'],\n",
        "    'C': [0.01, 0.1, 1, 10],\n",
        "    'gamma': [0.01, 0.1, 1, 10],\n",
        "}\n",
        "\n",
        "pitch_search = GridSearchCV(estimator=svm_model, param_grid=param)\n",
        "pitch_search.fit(X_train, pitch_train)\n",
        "\n",
        "best_params = pitch_search.best_params_\n",
        "\n",
        "best_svm_model = pitch_search.best_estimator_\n",
        "\n",
        "y_pred = best_svm_model.predict(X_val)\n",
        "mae = mean_absolute_error(pitch_val, y_pred)\n",
        "print(\"MAE on Validation Set:\", mae)\n"
      ],
      "metadata": {
        "colab": {
          "base_uri": "https://localhost:8080/"
        },
        "id": "k3jCVVxslhuO",
        "outputId": "286f5910-9c24-4fb8-8860-ee66266d4b32"
      },
      "execution_count": 27,
      "outputs": [
        {
          "output_type": "stream",
          "name": "stdout",
          "text": [
            "MAE on Validation Set: 0.08658396681725145\n"
          ]
        }
      ]
    },
    {
      "cell_type": "code",
      "source": [
        "print(\"Train acc: \", best_svm_model.score(X_train, pitch_train))\n",
        "print(\"Validation acc: \", best_svm_model.score(X_val, pitch_val))"
      ],
      "metadata": {
        "colab": {
          "base_uri": "https://localhost:8080/"
        },
        "id": "i7K1_2l_AWhK",
        "outputId": "7dc6a823-a920-4157-9480-9f9364ac0a6f"
      },
      "execution_count": 28,
      "outputs": [
        {
          "output_type": "stream",
          "name": "stdout",
          "text": [
            "Train acc:  0.28376504883813136\n",
            "Validation acc:  0.6398235504817626\n"
          ]
        }
      ]
    },
    {
      "cell_type": "code",
      "source": [
        "from sklearn.model_selection import RandomizedSearchCV\n",
        "from sklearn.svm import SVR\n",
        "from sklearn.metrics import make_scorer, mean_absolute_error\n",
        "from scipy.stats import uniform, randint\n",
        "\n",
        "# svm_model = SVR()\n",
        "\n",
        "param = {\n",
        "    'kernel': ['rbf'],\n",
        "    'C': [0.01, 0.1, 1, 10],\n",
        "    'gamma': [0.01, 0.1, 1, 10],\n",
        "}\n",
        "\n",
        "yaw_search =  GridSearchCV(estimator=svm_model, param_grid=param)\n",
        "yaw_search.fit(X_train, yaw_train)\n",
        "\n",
        "yaw_svm_model = yaw_search.best_estimator_\n",
        "\n"
      ],
      "metadata": {
        "id": "optTUf2NtCFF"
      },
      "execution_count": 29,
      "outputs": []
    },
    {
      "cell_type": "code",
      "source": [
        "print(\"Train acc: \", yaw_svm_model.score(X_train, yaw_train))\n",
        "print(\"Validation acc: \", yaw_svm_model.score(X_val, yaw_val))"
      ],
      "metadata": {
        "colab": {
          "base_uri": "https://localhost:8080/"
        },
        "id": "L_THCKqXyf3g",
        "outputId": "58adce9b-f869-489e-de7d-0cf1ee883a9e"
      },
      "execution_count": 30,
      "outputs": [
        {
          "output_type": "stream",
          "name": "stdout",
          "text": [
            "Train acc:  0.8650313197117327\n",
            "Validation acc:  0.9463355995472097\n"
          ]
        }
      ]
    },
    {
      "cell_type": "code",
      "source": [
        "from sklearn.model_selection import RandomizedSearchCV\n",
        "from sklearn.svm import SVR\n",
        "from sklearn.metrics import make_scorer, mean_absolute_error\n",
        "from scipy.stats import uniform, randint\n",
        "\n",
        "# Define the SVM model\n",
        "# svm_model = SVR()\n",
        "\n",
        "param = {\n",
        "    'kernel': ['rbf'],\n",
        "    'C': [0.01, 0.1, 1, 10],\n",
        "    'gamma': [0.01, 0.1, 1, 10],\n",
        "}\n",
        "\n",
        "\n",
        "roll_search = GridSearchCV(estimator=svm_model, param_grid=param)\n",
        "roll_search.fit(X_train, roll_train)\n",
        "\n",
        "\n",
        "roll_svm_model = roll_search.best_estimator_"
      ],
      "metadata": {
        "id": "Ugy-NVCxFhFa"
      },
      "execution_count": 31,
      "outputs": []
    },
    {
      "cell_type": "code",
      "source": [
        "print(\"Train acc: \", roll_svm_model.score(X_train, roll_train))\n",
        "print(\"Validation acc: \", roll_svm_model.score(X_val, roll_val))"
      ],
      "metadata": {
        "colab": {
          "base_uri": "https://localhost:8080/"
        },
        "id": "h0zj0CioBdVj",
        "outputId": "34106d8c-b16b-46ca-fd13-3965dff09615"
      },
      "execution_count": 32,
      "outputs": [
        {
          "output_type": "stream",
          "name": "stdout",
          "text": [
            "Train acc:  0.3078439075226159\n",
            "Validation acc:  0.8556130440894036\n"
          ]
        }
      ]
    },
    {
      "cell_type": "code",
      "source": [
        "from sklearn.metrics import f1_score\n",
        "pitch_pred = best_svm_model.predict(X_val)\n",
        "yaw_pred = yaw_svm_model.predict(X_val)\n",
        "roll_pred = roll_svm_model.predict(X_val)\n",
        "\n",
        "print(\"Pitch: \", mean_absolute_error(pitch_val, pitch_pred))\n",
        "print(\"Yaw: \", mean_absolute_error(yaw_val, yaw_pred))\n",
        "print(\"Roll: \", mean_absolute_error(roll_val, roll_pred))"
      ],
      "metadata": {
        "colab": {
          "base_uri": "https://localhost:8080/"
        },
        "id": "Rm6t0HRUB0kp",
        "outputId": "6e041f75-5992-4d90-d30b-5d6dbcb95642"
      },
      "execution_count": 33,
      "outputs": [
        {
          "output_type": "stream",
          "name": "stdout",
          "text": [
            "Pitch:  0.08658396681725145\n",
            "Yaw:  0.061364434709814085\n",
            "Roll:  0.05845621563438022\n"
          ]
        }
      ]
    },
    {
      "cell_type": "code",
      "source": [
        "pitch_pred = best_svm_model.predict(X_test)\n",
        "yaw_pred = yaw_svm_model.predict(X_test)\n",
        "roll_pred = roll_svm_model.predict(X_test)\n",
        "\n",
        "print(\"Pitch: \", mean_absolute_error(pitch_test, pitch_pred))\n",
        "print(\"Yaw: \", mean_absolute_error(yaw_test, yaw_pred))\n",
        "print(\"Roll: \", mean_absolute_error(roll_test, roll_pred))"
      ],
      "metadata": {
        "colab": {
          "base_uri": "https://localhost:8080/"
        },
        "id": "XH7R8KncCzDb",
        "outputId": "5b9ef201-7d1e-4ba7-f7ff-aa1e4eb3a04e"
      },
      "execution_count": 34,
      "outputs": [
        {
          "output_type": "stream",
          "name": "stdout",
          "text": [
            "Pitch:  0.09724425186617029\n",
            "Yaw:  0.08179685419682442\n",
            "Roll:  0.04495132511650009\n"
          ]
        }
      ]
    },
    {
      "cell_type": "code",
      "source": [
        "# choosing random image\n",
        "features = []\n",
        "poses = []\n",
        "nose = []\n",
        "chin = []\n",
        "x_features = []\n",
        "y_features = []\n",
        "new_df = []\n",
        "faceModule = mediapipe.solutions.face_mesh\n",
        "\n",
        "# loading image and its corresponding mat file\n",
        "with faceModule.FaceMesh(static_image_mode=True) as faces:\n",
        "        img = cv2.imread('/content/AFLW2000/image00854.jpg')\n",
        "        results = faces.process(cv2.cvtColor(img, cv2.COLOR_BGR2RGB))\n",
        "        image_x = image_y = []\n",
        "\n",
        "        if results.multi_face_landmarks:\n",
        "\n",
        "            for face in results.multi_face_landmarks:\n",
        "\n",
        "                for idx, landmark in enumerate(face.landmark):\n",
        "\n",
        "                    x = landmark.x\n",
        "                    y = landmark.y\n",
        "\n",
        "                    # image_x.append(x)\n",
        "                    # image_y.append(y)\n",
        "\n",
        "\n",
        "                    if idx == 1:\n",
        "                        nose.append([x, y])\n",
        "                    elif idx == 152:\n",
        "                        chin.append([x, y])\n",
        "\n",
        "\n",
        "\n",
        "                    x_features.append(x)\n",
        "                    y_features.append(y)\n"
      ],
      "metadata": {
        "id": "mqazG7oLzE8f"
      },
      "execution_count": 35,
      "outputs": []
    },
    {
      "cell_type": "code",
      "source": [
        "len(x_features)"
      ],
      "metadata": {
        "colab": {
          "base_uri": "https://localhost:8080/"
        },
        "id": "Cllc0Fk9E_qv",
        "outputId": "119ea781-da9d-4883-af1c-4fcb3a7c3431"
      },
      "execution_count": null,
      "outputs": [
        {
          "output_type": "execute_result",
          "data": {
            "text/plain": [
              "468"
            ]
          },
          "metadata": {},
          "execution_count": 144
        }
      ]
    },
    {
      "cell_type": "code",
      "source": [
        "nose = np.array(nose)"
      ],
      "metadata": {
        "id": "vF0Gd9gREXi1"
      },
      "execution_count": null,
      "outputs": []
    },
    {
      "cell_type": "code",
      "source": [
        "chin = np.array(chin)"
      ],
      "metadata": {
        "id": "5Z92UsYNEXi1"
      },
      "execution_count": null,
      "outputs": []
    },
    {
      "cell_type": "code",
      "source": [
        "centered_x = np.array(x_features) - nose[:,0].reshape(-1,1)\n",
        "centered_y = np.array(y_features) - nose[:,1].reshape(-1,1)"
      ],
      "metadata": {
        "id": "PWvew4lPEXi2"
      },
      "execution_count": null,
      "outputs": []
    },
    {
      "cell_type": "code",
      "source": [
        "len(centered_x)"
      ],
      "metadata": {
        "colab": {
          "base_uri": "https://localhost:8080/"
        },
        "id": "DhkUm5DLFI89",
        "outputId": "33355d76-6212-42fe-f165-bca3ef6e9ed2"
      },
      "execution_count": null,
      "outputs": [
        {
          "output_type": "execute_result",
          "data": {
            "text/plain": [
              "1"
            ]
          },
          "metadata": {},
          "execution_count": 148
        }
      ]
    },
    {
      "cell_type": "code",
      "source": [
        "distance = np.sqrt((nose[:, 0] - chin[:, 0]) ** 2 + (nose[:, 1] - chin[:, 1]) ** 2)\n",
        "distance[distance == 0] = 1"
      ],
      "metadata": {
        "id": "XXerF42WEXi2"
      },
      "execution_count": null,
      "outputs": []
    },
    {
      "cell_type": "code",
      "source": [
        "normalized_x = centered_x/distance.reshape(-1,1)\n",
        "normalized_y = centered_y/distance.reshape(-1,1)"
      ],
      "metadata": {
        "id": "7uZdK_fSEXi2"
      },
      "execution_count": null,
      "outputs": []
    },
    {
      "cell_type": "code",
      "source": [
        "normalized_x = np.array(normalized_x)\n",
        "normalized_y = np.array(normalized_y)\n",
        "\n",
        "new_df = np.hstack([normalized_x, normalized_y])"
      ],
      "metadata": {
        "id": "EdMl6-xHEXi2"
      },
      "execution_count": null,
      "outputs": []
    },
    {
      "cell_type": "code",
      "source": [
        "len(new_df)"
      ],
      "metadata": {
        "colab": {
          "base_uri": "https://localhost:8080/"
        },
        "id": "_OLY7MOc6wX-",
        "outputId": "eda13fce-5b12-4db2-c238-23ea392c9f4a"
      },
      "execution_count": null,
      "outputs": [
        {
          "output_type": "execute_result",
          "data": {
            "text/plain": [
              "1"
            ]
          },
          "metadata": {},
          "execution_count": 152
        }
      ]
    },
    {
      "cell_type": "code",
      "source": [
        "df = pd.DataFrame(new_df)"
      ],
      "metadata": {
        "id": "4x0y_HBnEks1"
      },
      "execution_count": null,
      "outputs": []
    },
    {
      "cell_type": "code",
      "source": [
        "df"
      ],
      "metadata": {
        "colab": {
          "base_uri": "https://localhost:8080/",
          "height": 130
        },
        "id": "gEIOXKsdEpVJ",
        "outputId": "8ca0a098-ec6b-4298-f206-1fa0186d46c0"
      },
      "execution_count": null,
      "outputs": [
        {
          "output_type": "execute_result",
          "data": {
            "text/plain": [
              "        0    1         2         3         4         5         6         7    \\\n",
              "0  0.036392  0.0  0.022712 -0.073765 -0.007816 -0.012402 -0.019898 -0.516362   \n",
              "\n",
              "        8         9    ...       926     927       928       929       930  \\\n",
              "0 -0.034704 -0.046935  ...  0.048518  0.0213  0.118127  0.047129  0.083439   \n",
              "\n",
              "        931       932       933       934       935  \n",
              "0 -0.187427 -0.180902 -0.187354 -0.213697 -0.249872  \n",
              "\n",
              "[1 rows x 936 columns]"
            ],
            "text/html": [
              "\n",
              "  <div id=\"df-4b2900bd-0bc4-4103-a21d-07fee8094254\" class=\"colab-df-container\">\n",
              "    <div>\n",
              "<style scoped>\n",
              "    .dataframe tbody tr th:only-of-type {\n",
              "        vertical-align: middle;\n",
              "    }\n",
              "\n",
              "    .dataframe tbody tr th {\n",
              "        vertical-align: top;\n",
              "    }\n",
              "\n",
              "    .dataframe thead th {\n",
              "        text-align: right;\n",
              "    }\n",
              "</style>\n",
              "<table border=\"1\" class=\"dataframe\">\n",
              "  <thead>\n",
              "    <tr style=\"text-align: right;\">\n",
              "      <th></th>\n",
              "      <th>0</th>\n",
              "      <th>1</th>\n",
              "      <th>2</th>\n",
              "      <th>3</th>\n",
              "      <th>4</th>\n",
              "      <th>5</th>\n",
              "      <th>6</th>\n",
              "      <th>7</th>\n",
              "      <th>8</th>\n",
              "      <th>9</th>\n",
              "      <th>...</th>\n",
              "      <th>926</th>\n",
              "      <th>927</th>\n",
              "      <th>928</th>\n",
              "      <th>929</th>\n",
              "      <th>930</th>\n",
              "      <th>931</th>\n",
              "      <th>932</th>\n",
              "      <th>933</th>\n",
              "      <th>934</th>\n",
              "      <th>935</th>\n",
              "    </tr>\n",
              "  </thead>\n",
              "  <tbody>\n",
              "    <tr>\n",
              "      <th>0</th>\n",
              "      <td>0.036392</td>\n",
              "      <td>0.0</td>\n",
              "      <td>0.022712</td>\n",
              "      <td>-0.073765</td>\n",
              "      <td>-0.007816</td>\n",
              "      <td>-0.012402</td>\n",
              "      <td>-0.019898</td>\n",
              "      <td>-0.516362</td>\n",
              "      <td>-0.034704</td>\n",
              "      <td>-0.046935</td>\n",
              "      <td>...</td>\n",
              "      <td>0.048518</td>\n",
              "      <td>0.0213</td>\n",
              "      <td>0.118127</td>\n",
              "      <td>0.047129</td>\n",
              "      <td>0.083439</td>\n",
              "      <td>-0.187427</td>\n",
              "      <td>-0.180902</td>\n",
              "      <td>-0.187354</td>\n",
              "      <td>-0.213697</td>\n",
              "      <td>-0.249872</td>\n",
              "    </tr>\n",
              "  </tbody>\n",
              "</table>\n",
              "<p>1 rows × 936 columns</p>\n",
              "</div>\n",
              "    <div class=\"colab-df-buttons\">\n",
              "\n",
              "  <div class=\"colab-df-container\">\n",
              "    <button class=\"colab-df-convert\" onclick=\"convertToInteractive('df-4b2900bd-0bc4-4103-a21d-07fee8094254')\"\n",
              "            title=\"Convert this dataframe to an interactive table.\"\n",
              "            style=\"display:none;\">\n",
              "\n",
              "  <svg xmlns=\"http://www.w3.org/2000/svg\" height=\"24px\" viewBox=\"0 -960 960 960\">\n",
              "    <path d=\"M120-120v-720h720v720H120Zm60-500h600v-160H180v160Zm220 220h160v-160H400v160Zm0 220h160v-160H400v160ZM180-400h160v-160H180v160Zm440 0h160v-160H620v160ZM180-180h160v-160H180v160Zm440 0h160v-160H620v160Z\"/>\n",
              "  </svg>\n",
              "    </button>\n",
              "\n",
              "  <style>\n",
              "    .colab-df-container {\n",
              "      display:flex;\n",
              "      gap: 12px;\n",
              "    }\n",
              "\n",
              "    .colab-df-convert {\n",
              "      background-color: #E8F0FE;\n",
              "      border: none;\n",
              "      border-radius: 50%;\n",
              "      cursor: pointer;\n",
              "      display: none;\n",
              "      fill: #1967D2;\n",
              "      height: 32px;\n",
              "      padding: 0 0 0 0;\n",
              "      width: 32px;\n",
              "    }\n",
              "\n",
              "    .colab-df-convert:hover {\n",
              "      background-color: #E2EBFA;\n",
              "      box-shadow: 0px 1px 2px rgba(60, 64, 67, 0.3), 0px 1px 3px 1px rgba(60, 64, 67, 0.15);\n",
              "      fill: #174EA6;\n",
              "    }\n",
              "\n",
              "    .colab-df-buttons div {\n",
              "      margin-bottom: 4px;\n",
              "    }\n",
              "\n",
              "    [theme=dark] .colab-df-convert {\n",
              "      background-color: #3B4455;\n",
              "      fill: #D2E3FC;\n",
              "    }\n",
              "\n",
              "    [theme=dark] .colab-df-convert:hover {\n",
              "      background-color: #434B5C;\n",
              "      box-shadow: 0px 1px 3px 1px rgba(0, 0, 0, 0.15);\n",
              "      filter: drop-shadow(0px 1px 2px rgba(0, 0, 0, 0.3));\n",
              "      fill: #FFFFFF;\n",
              "    }\n",
              "  </style>\n",
              "\n",
              "    <script>\n",
              "      const buttonEl =\n",
              "        document.querySelector('#df-4b2900bd-0bc4-4103-a21d-07fee8094254 button.colab-df-convert');\n",
              "      buttonEl.style.display =\n",
              "        google.colab.kernel.accessAllowed ? 'block' : 'none';\n",
              "\n",
              "      async function convertToInteractive(key) {\n",
              "        const element = document.querySelector('#df-4b2900bd-0bc4-4103-a21d-07fee8094254');\n",
              "        const dataTable =\n",
              "          await google.colab.kernel.invokeFunction('convertToInteractive',\n",
              "                                                    [key], {});\n",
              "        if (!dataTable) return;\n",
              "\n",
              "        const docLinkHtml = 'Like what you see? Visit the ' +\n",
              "          '<a target=\"_blank\" href=https://colab.research.google.com/notebooks/data_table.ipynb>data table notebook</a>'\n",
              "          + ' to learn more about interactive tables.';\n",
              "        element.innerHTML = '';\n",
              "        dataTable['output_type'] = 'display_data';\n",
              "        await google.colab.output.renderOutput(dataTable, element);\n",
              "        const docLink = document.createElement('div');\n",
              "        docLink.innerHTML = docLinkHtml;\n",
              "        element.appendChild(docLink);\n",
              "      }\n",
              "    </script>\n",
              "  </div>\n",
              "\n",
              "\n",
              "  <div id=\"id_546107c0-2d98-406f-856d-9383e4c23d6e\">\n",
              "    <style>\n",
              "      .colab-df-generate {\n",
              "        background-color: #E8F0FE;\n",
              "        border: none;\n",
              "        border-radius: 50%;\n",
              "        cursor: pointer;\n",
              "        display: none;\n",
              "        fill: #1967D2;\n",
              "        height: 32px;\n",
              "        padding: 0 0 0 0;\n",
              "        width: 32px;\n",
              "      }\n",
              "\n",
              "      .colab-df-generate:hover {\n",
              "        background-color: #E2EBFA;\n",
              "        box-shadow: 0px 1px 2px rgba(60, 64, 67, 0.3), 0px 1px 3px 1px rgba(60, 64, 67, 0.15);\n",
              "        fill: #174EA6;\n",
              "      }\n",
              "\n",
              "      [theme=dark] .colab-df-generate {\n",
              "        background-color: #3B4455;\n",
              "        fill: #D2E3FC;\n",
              "      }\n",
              "\n",
              "      [theme=dark] .colab-df-generate:hover {\n",
              "        background-color: #434B5C;\n",
              "        box-shadow: 0px 1px 3px 1px rgba(0, 0, 0, 0.15);\n",
              "        filter: drop-shadow(0px 1px 2px rgba(0, 0, 0, 0.3));\n",
              "        fill: #FFFFFF;\n",
              "      }\n",
              "    </style>\n",
              "    <button class=\"colab-df-generate\" onclick=\"generateWithVariable('df')\"\n",
              "            title=\"Generate code using this dataframe.\"\n",
              "            style=\"display:none;\">\n",
              "\n",
              "  <svg xmlns=\"http://www.w3.org/2000/svg\" height=\"24px\"viewBox=\"0 0 24 24\"\n",
              "       width=\"24px\">\n",
              "    <path d=\"M7,19H8.4L18.45,9,17,7.55,7,17.6ZM5,21V16.75L18.45,3.32a2,2,0,0,1,2.83,0l1.4,1.43a1.91,1.91,0,0,1,.58,1.4,1.91,1.91,0,0,1-.58,1.4L9.25,21ZM18.45,9,17,7.55Zm-12,3A5.31,5.31,0,0,0,4.9,8.1,5.31,5.31,0,0,0,1,6.5,5.31,5.31,0,0,0,4.9,4.9,5.31,5.31,0,0,0,6.5,1,5.31,5.31,0,0,0,8.1,4.9,5.31,5.31,0,0,0,12,6.5,5.46,5.46,0,0,0,6.5,12Z\"/>\n",
              "  </svg>\n",
              "    </button>\n",
              "    <script>\n",
              "      (() => {\n",
              "      const buttonEl =\n",
              "        document.querySelector('#id_546107c0-2d98-406f-856d-9383e4c23d6e button.colab-df-generate');\n",
              "      buttonEl.style.display =\n",
              "        google.colab.kernel.accessAllowed ? 'block' : 'none';\n",
              "\n",
              "      buttonEl.onclick = () => {\n",
              "        google.colab.notebook.generateWithVariable('df');\n",
              "      }\n",
              "      })();\n",
              "    </script>\n",
              "  </div>\n",
              "\n",
              "    </div>\n",
              "  </div>\n"
            ],
            "application/vnd.google.colaboratory.intrinsic+json": {
              "type": "dataframe",
              "variable_name": "df"
            }
          },
          "metadata": {},
          "execution_count": 154
        }
      ]
    },
    {
      "cell_type": "code",
      "source": [
        "image = cv2.imread('/content/AFLW2000/image00854.jpg')\n",
        "new_df = np.array(new_df).reshape(1, -1)\n",
        "pitch = best_svm_model.predict(new_df)\n",
        "yaw = yaw_svm_model.predict(new_df)\n",
        "roll = roll_svm_model.predict(new_df)\n",
        "cv2_imshow(draw_axis(image,pitch,yaw,roll))"
      ],
      "metadata": {
        "colab": {
          "base_uri": "https://localhost:8080/",
          "height": 467
        },
        "id": "xjCya8yXxmtY",
        "outputId": "b0e6e1ff-50fb-457a-9329-2e9a5525d81b"
      },
      "execution_count": null,
      "outputs": [
        {
          "output_type": "display_data",
          "data": {
            "text/plain": [
              "<PIL.Image.Image image mode=RGB size=450x450>"
            ],
            "image/png": "[encoded data removed]"
          },
          "metadata": {}
        }
      ]
    },
    {
      "cell_type": "code",
      "source": [
        "def get_keypoints(frame):\n",
        "    faceModule = mediapipe.solutions.face_mesh\n",
        "    nose = []\n",
        "    chin = []\n",
        "    features = []\n",
        "    image_x = []\n",
        "    image_y = []\n",
        "\n",
        "    with faceModule.FaceMesh(static_image_mode=True) as faces:\n",
        "        results = faces.process(cv2.cvtColor(frame, cv2.COLOR_BGR2RGB))\n",
        "\n",
        "        if results.multi_face_landmarks:\n",
        "\n",
        "            for face in results.multi_face_landmarks:\n",
        "\n",
        "\n",
        "                for idx, landmark in enumerate(face.landmark):\n",
        "\n",
        "                    x = landmark.x\n",
        "                    y = landmark.y\n",
        "\n",
        "                    if idx == 1:\n",
        "                        nose.append([x, y])\n",
        "                    elif idx == 152:\n",
        "                        chin.append([x, y])\n",
        "\n",
        "\n",
        "\n",
        "                    image_x.append(x)\n",
        "                    image_y.append(y)\n",
        "\n",
        "    if image_x and image_y and nose:\n",
        "      nose = np.array(nose)\n",
        "      chin = np.array(chin)\n",
        "\n",
        "      centered_x = np.array(image_x) - nose[:,0].reshape(-1,1)\n",
        "      centered_y = np.array(image_y) - nose[:,1].reshape(-1,1)\n",
        "\n",
        "\n",
        "      distance = np.sqrt((nose[:, 0] - chin[:, 0]) ** 2 + (nose[:, 1] - chin[:, 1]) ** 2)\n",
        "      distance[distance == 0] = 1\n",
        "\n",
        "      normalized_x = centered_x / distance.reshape(-1,1)\n",
        "      normalized_y = centered_y / distance.reshape(-1,1)\n",
        "\n",
        "      normalized_x = np.array(normalized_x)\n",
        "      normalized_y = np.array(normalized_y)\n",
        "\n",
        "      features = np.hstack([normalized_x, normalized_y])\n",
        "    else:\n",
        "      features = []\n",
        "      nose = []\n",
        "      chin = []\n",
        "\n",
        "    return features, nose\n",
        "\n"
      ],
      "metadata": {
        "id": "THLFxm9FHYrd"
      },
      "execution_count": 36,
      "outputs": []
    },
    {
      "cell_type": "code",
      "source": [
        "def pose_predict(frame, pitch, yaw, roll):\n",
        "  features, nose = get_keypoints(frame)\n",
        "  if frame.shape[0] == 0 or len(features) == 0:\n",
        "        return None, None, None, None\n",
        "  new_df = np.array(features).reshape(1, -1)\n",
        "  pitch = pitch.predict(new_df)\n",
        "  yaw = yaw.predict(new_df)\n",
        "  roll = roll.predict(new_df)\n",
        "\n",
        "  return nose, pitch, yaw, roll\n",
        "\n"
      ],
      "metadata": {
        "id": "0xK4YFFEM5Lq"
      },
      "execution_count": 37,
      "outputs": []
    },
    {
      "cell_type": "code",
      "source": [
        "img = '/content/AFLW2000/image00008.jpg'\n",
        "frame = cv2.imread(img)\n",
        "nose, pitch, yaw, roll = pose_predict(frame, best_svm_model, yaw_svm_model, roll_svm_model)\n",
        "cv2_imshow(draw_axis(frame, pitch, yaw,roll, nose[:,0]*frame.shape[1], nose[:,1]*frame.shape[0]))"
      ],
      "metadata": {
        "colab": {
          "base_uri": "https://localhost:8080/",
          "height": 467
        },
        "id": "XAn-IajgSE7S",
        "outputId": "5b8b6018-2fb7-43c6-e2b9-566545395e63"
      },
      "execution_count": 38,
      "outputs": [
        {
          "output_type": "display_data",
          "data": {
            "text/plain": [
              "<PIL.Image.Image image mode=RGB size=450x450>"
            ],
            "image/png": "[encoded data removed]"
          },
          "metadata": {}
        }
      ]
    },
    {
      "cell_type": "code",
      "source": [
        "video_file = '/content/Jake Makes the Criminals Sing _ Cold Open _ Brooklyn Nine Nine.mp4'\n",
        "cap = cv2.VideoCapture(video_file)\n",
        "output_video = 'output.avi'\n",
        "video_writer = cv2.VideoWriter(output_video, cv2.VideoWriter_fourcc(*'MJPG'), int(cap.get(cv2.CAP_PROP_FPS)), (int(cap.get(cv2.CAP_PROP_FRAME_WIDTH)), int(cap.get(cv2.CAP_PROP_FRAME_HEIGHT))))\n",
        "\n",
        "while True:\n",
        "    ret, frame = cap.read()\n",
        "    if not ret:\n",
        "        break\n",
        "    # cv2_imshow(frame)\n",
        "    try:\n",
        "      nose, pitch, yaw, roll = pose_predict(frame, best_svm_model, yaw_svm_model, roll_svm_model)\n",
        "      if pitch and yaw and roll:\n",
        "        draw_axis(frame, pitch, yaw,roll, nose[:,0]*frame.shape[1], nose[:,1]*frame.shape[0])\n",
        "      video_writer.write(frame)\n",
        "    except Exception as e:\n",
        "      print(e)\n",
        "\n",
        "cap.release()\n",
        "video_writer.release()\n"
      ],
      "metadata": {
        "id": "UeeCdNoNH0l0"
      },
      "execution_count": 49,
      "outputs": []
    },
    {
      "cell_type": "code",
      "execution_count": 53,
      "metadata": {
        "colab": {
          "base_uri": "https://localhost:8080/"
        },
        "id": "7d1ePX8rDGEY",
        "outputId": "72482de5-21cc-4e35-9c8b-3adba2918e41"
      },
      "outputs": [
        {
          "output_type": "stream",
          "name": "stdout",
          "text": [
            "Collecting imageio==2.4.1\n",
            "  Downloading imageio-2.4.1.tar.gz (3.3 MB)\n",
            "\u001b[2K     \u001b[90m━━━━━━━━━━━━━━━━━━━━━━━━━━━━━━━━━━━━━━━━\u001b[0m \u001b[32m3.3/3.3 MB\u001b[0m \u001b[31m8.0 MB/s\u001b[0m eta \u001b[36m0:00:00\u001b[0m\n",
            "\u001b[?25h  Preparing metadata (setup.py) ... \u001b[?25l\u001b[?25hdone\n",
            "Requirement already satisfied: numpy in /usr/local/lib/python3.10/dist-packages (from imageio==2.4.1) (1.25.2)\n",
            "Requirement already satisfied: pillow in /usr/local/lib/python3.10/dist-packages (from imageio==2.4.1) (9.4.0)\n",
            "Building wheels for collected packages: imageio\n",
            "  Building wheel for imageio (setup.py) ... \u001b[?25l\u001b[?25hdone\n",
            "  Created wheel for imageio: filename=imageio-2.4.1-py3-none-any.whl size=3303885 sha256=752b91fd8d3830ea272c0d1d33111b7cfaa8fa88b414c4b94b05be7d76c6ea9e\n",
            "  Stored in directory: /root/.cache/pip/wheels/96/5d/ce/bdbdb04744dac03906336eb0d01ff1e222061d3419c55c55f9\n",
            "Successfully built imageio\n",
            "Installing collected packages: imageio\n",
            "  Attempting uninstall: imageio\n",
            "    Found existing installation: imageio 2.31.6\n",
            "    Uninstalling imageio-2.31.6:\n",
            "      Successfully uninstalled imageio-2.31.6\n",
            "\u001b[31mERROR: pip's dependency resolver does not currently take into account all the packages that are installed. This behaviour is the source of the following dependency conflicts.\n",
            "moviepy 1.0.3 requires imageio<3.0,>=2.5; python_version >= \"3.4\", but you have imageio 2.4.1 which is incompatible.\u001b[0m\u001b[31m\n",
            "\u001b[0mSuccessfully installed imageio-2.4.1\n"
          ]
        }
      ],
      "source": [
        "!pip install imageio==2.4.1"
      ]
    },
    {
      "cell_type": "code",
      "execution_count": 56,
      "metadata": {
        "colab": {
          "base_uri": "https://localhost:8080/"
        },
        "id": "BSd6VnzoCnco",
        "outputId": "44e8554e-4f73-4d29-8ca3-be8760ebcd58"
      },
      "outputs": [
        {
          "output_type": "stream",
          "name": "stdout",
          "text": [
            "Moviepy - Building video __temp__.mp4.\n",
            "Moviepy - Writing video __temp__.mp4\n",
            "\n"
          ]
        },
        {
          "output_type": "stream",
          "name": "stderr",
          "text": []
        },
        {
          "output_type": "stream",
          "name": "stdout",
          "text": [
            "Moviepy - Done !\n",
            "Moviepy - video ready __temp__.mp4\n"
          ]
        }
      ],
      "source": [
        "from moviepy.editor import *\n",
        "\n",
        "path='/content/output.avi'\n",
        "\n",
        "clip=VideoFileClip(path)\n",
        "clip.ipython_display(width=280, maxduration=200)"
      ]
    },
    {
      "cell_type": "markdown",
      "source": [
        "### Random Forest Regressor"
      ],
      "metadata": {
        "id": "GyW1KpxWaK6W"
      }
    },
    {
      "cell_type": "code",
      "source": [
        "from sklearn.ensemble import RandomForestRegressor\n",
        "from scipy.stats import randint\n",
        "\n",
        "# Define the Random Forest Regressor\n",
        "rf_regressor = RandomForestRegressor()\n",
        "\n",
        "# Define the parameter distributions to sample from\n",
        "param_distributions = {\n",
        "    'n_estimators': randint(50, 200),\n",
        "    'max_depth': randint(5, 50),\n",
        "    'min_samples_split': randint(2, 20),\n",
        "    'min_samples_leaf': randint(1, 20)\n",
        "}\n",
        "\n",
        "pitch_search = RandomizedSearchCV(estimator=rf_regressor, param_distributions=param_distributions,\n",
        "                                   n_iter=100, scoring='neg_mean_absolute_error', cv=5, random_state=42)\n",
        "pitch_search.fit(X_pitch_train, pitch_train)\n",
        "\n",
        "# Get the best parameters and best score\n",
        "best_params = pitch_search.best_params_\n",
        "best_score = -pitch_search.best_score_\n",
        "\n",
        "# Print the results\n",
        "print(\"Best Parameters:\", best_params)\n",
        "print(\"Best Score (MAE):\", best_score)\n",
        "\n",
        "# Get the best model\n",
        "pitch_rf = pitch_search.best_estimator_\n",
        "\n",
        "# Evaluate the best model on the validation set\n",
        "pitch_pred = pitch_rf.predict(X_pitch_val)\n",
        "mae = mean_absolute_error(pitch_val, y_pred)\n",
        "print(\"MAE on Validation Set:\", mae)\n"
      ],
      "metadata": {
        "id": "db0J0qMFZNA-"
      },
      "execution_count": null,
      "outputs": []
    },
    {
      "cell_type": "code",
      "source": [],
      "metadata": {
        "id": "X0y36D62artT"
      },
      "execution_count": null,
      "outputs": []
    }
  ]
}